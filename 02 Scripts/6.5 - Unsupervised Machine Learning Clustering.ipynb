{
 "cells": [
  {
   "cell_type": "markdown",
   "id": "69776c73",
   "metadata": {},
   "source": [
    "# 6.5: Unsupervised Machine Learning: Clustering\n",
    "\n",
    "## Table of contents:\n",
    "\n",
    "### Task 1 - Install and import all necessary libraries in your Jupyter notebook.\n",
    "\n",
    "### Task 2 - Import your data and conduct any necessary cleaning, manipulations, and reprocessing (such as renaming).\n",
    "\n",
    "- Recall from the Exercise that the k-means algorithm can only handle numerical variables, so you’ll need to remove any categorical columns from your data.\n",
    "- Also recall that the difference between your variables’ scales can’t be too large or your results will be biased. Make sure you standardize your data first.\n",
    "\n",
    "### Task 3 - Use the elbow technique as shown in the Jupyter notebook for this Exercise.\n",
    "\n",
    "### Task 4 - Make an informed decision about the number of clusters you’ll use in your k-means algorithm based on the chart.\n",
    "\n",
    "- Explain why you chose that number in a markdown cell.\n",
    "- If you run into any problems determining the optimal number of clusters using the elbow technique, reach out to your tutor for suggestions.\n",
    "\n",
    "### Task 5 - Run the k-means algorithm.\n",
    "\n",
    "### Task 6 - Attach a new column to your dataframe with the resulting clusters as shown in the Exercise. This will allow you to create a visualization using your clusters.\n",
    "\n",
    "### Task 7 - Create a few different visualizations (e.g., scatterplots) using your clustered data. Try plotting different variables against each other to see the results in terms of the clusters.\n",
    "\n",
    "### Task 8 - Discuss how and why the clusters make sense. If they don’t make sense, however, this is also useful insight, as it means you’ll need to explore the data further.\n",
    "\n",
    "- Note down your thoughts in a markdown cell.\n",
    "\n",
    "### Task 9 - Calculate the descriptive statistics for your clusters using the groupby() function and discuss your findings.\n",
    "\n",
    "### Task 10 - Propose what these results could be useful for in future steps of an analytics pipeline.\n",
    "\n",
    "***\n",
    "***"
   ]
  },
  {
   "cell_type": "markdown",
   "id": "823aed52",
   "metadata": {},
   "source": [
    "## Task 1- Install and import all necessary libraries in your Jupyter notebook."
   ]
  },
  {
   "cell_type": "code",
   "execution_count": 1,
   "id": "8077a3f8",
   "metadata": {},
   "outputs": [],
   "source": [
    "import pandas as pd\n",
    "import numpy as np\n",
    "import seaborn as sns\n",
    "import matplotlib\n",
    "import matplotlib.pyplot as plt\n",
    "import os\n",
    "import sklearn\n",
    "from sklearn.cluster import KMeans # Here is where you import the k-means algorithm from scikit-learn.\n",
    "import pylab as pl # PyLab is a convenience module that bulk imports matplotlib.\n",
    "import calendar"
   ]
  },
  {
   "cell_type": "markdown",
   "id": "9ce9799e",
   "metadata": {},
   "source": [
    "## Task 2 - Import your data and conduct any necessary cleaning, manipulations, and reprocessing"
   ]
  },
  {
   "cell_type": "code",
   "execution_count": 2,
   "id": "2502bf45",
   "metadata": {},
   "outputs": [],
   "source": [
    "# This option ensures the graphs you create are displayed in your notebook without the need to \"call\" them specifically.\n",
    "\n",
    "%matplotlib inline"
   ]
  },
  {
   "cell_type": "code",
   "execution_count": 3,
   "id": "9ed6ee5f",
   "metadata": {},
   "outputs": [],
   "source": [
    "path = r'C:\\Users\\facun\\Desktop\\Data Analysis\\CF\\Data Immersion\\Achievement 6\\Data Sets'"
   ]
  },
  {
   "cell_type": "code",
   "execution_count": 4,
   "id": "e9d6823e",
   "metadata": {},
   "outputs": [],
   "source": [
    "gun_violence_df = pd.read_csv(os.path.join(path, 'Prepared', 'new_dataset.csv'), index_col = False)"
   ]
  },
  {
   "cell_type": "markdown",
   "id": "7989c9c6",
   "metadata": {},
   "source": [
    "### EDA"
   ]
  },
  {
   "cell_type": "code",
   "execution_count": 5,
   "id": "64148a1a",
   "metadata": {},
   "outputs": [
    {
     "data": {
      "text/html": [
       "<div>\n",
       "<style scoped>\n",
       "    .dataframe tbody tr th:only-of-type {\n",
       "        vertical-align: middle;\n",
       "    }\n",
       "\n",
       "    .dataframe tbody tr th {\n",
       "        vertical-align: top;\n",
       "    }\n",
       "\n",
       "    .dataframe thead th {\n",
       "        text-align: right;\n",
       "    }\n",
       "</style>\n",
       "<table border=\"1\" class=\"dataframe\">\n",
       "  <thead>\n",
       "    <tr style=\"text-align: right;\">\n",
       "      <th></th>\n",
       "      <th>Unnamed: 0</th>\n",
       "      <th>incident_id</th>\n",
       "      <th>year</th>\n",
       "      <th>month</th>\n",
       "      <th>day</th>\n",
       "      <th>day_of_week</th>\n",
       "      <th>state</th>\n",
       "      <th>city_or_county</th>\n",
       "      <th>n_guns_involved</th>\n",
       "      <th>n_killed</th>\n",
       "      <th>...</th>\n",
       "      <th>victim_0-17</th>\n",
       "      <th>victim_18-30</th>\n",
       "      <th>victim_31-45</th>\n",
       "      <th>victim_46-60</th>\n",
       "      <th>victim_61+</th>\n",
       "      <th>suspect_0-17</th>\n",
       "      <th>suspect_18-30</th>\n",
       "      <th>suspect_31-45</th>\n",
       "      <th>suspect_46-60</th>\n",
       "      <th>suspect_61+</th>\n",
       "    </tr>\n",
       "  </thead>\n",
       "  <tbody>\n",
       "    <tr>\n",
       "      <th>0</th>\n",
       "      <td>0</td>\n",
       "      <td>461105</td>\n",
       "      <td>2013</td>\n",
       "      <td>1</td>\n",
       "      <td>1</td>\n",
       "      <td>Tuesday</td>\n",
       "      <td>Pennsylvania</td>\n",
       "      <td>Mckeesport</td>\n",
       "      <td>NaN</td>\n",
       "      <td>0</td>\n",
       "      <td>...</td>\n",
       "      <td>0</td>\n",
       "      <td>1</td>\n",
       "      <td>0</td>\n",
       "      <td>0</td>\n",
       "      <td>0</td>\n",
       "      <td>0</td>\n",
       "      <td>0</td>\n",
       "      <td>0</td>\n",
       "      <td>0</td>\n",
       "      <td>0</td>\n",
       "    </tr>\n",
       "    <tr>\n",
       "      <th>1</th>\n",
       "      <td>1</td>\n",
       "      <td>460726</td>\n",
       "      <td>2013</td>\n",
       "      <td>1</td>\n",
       "      <td>1</td>\n",
       "      <td>Tuesday</td>\n",
       "      <td>California</td>\n",
       "      <td>Hawthorne</td>\n",
       "      <td>NaN</td>\n",
       "      <td>1</td>\n",
       "      <td>...</td>\n",
       "      <td>0</td>\n",
       "      <td>1</td>\n",
       "      <td>0</td>\n",
       "      <td>0</td>\n",
       "      <td>0</td>\n",
       "      <td>0</td>\n",
       "      <td>0</td>\n",
       "      <td>0</td>\n",
       "      <td>0</td>\n",
       "      <td>0</td>\n",
       "    </tr>\n",
       "    <tr>\n",
       "      <th>2</th>\n",
       "      <td>2</td>\n",
       "      <td>478855</td>\n",
       "      <td>2013</td>\n",
       "      <td>1</td>\n",
       "      <td>1</td>\n",
       "      <td>Tuesday</td>\n",
       "      <td>Ohio</td>\n",
       "      <td>Lorain</td>\n",
       "      <td>2.0</td>\n",
       "      <td>1</td>\n",
       "      <td>...</td>\n",
       "      <td>0</td>\n",
       "      <td>0</td>\n",
       "      <td>3</td>\n",
       "      <td>0</td>\n",
       "      <td>0</td>\n",
       "      <td>0</td>\n",
       "      <td>1</td>\n",
       "      <td>1</td>\n",
       "      <td>0</td>\n",
       "      <td>0</td>\n",
       "    </tr>\n",
       "    <tr>\n",
       "      <th>3</th>\n",
       "      <td>3</td>\n",
       "      <td>478925</td>\n",
       "      <td>2013</td>\n",
       "      <td>1</td>\n",
       "      <td>5</td>\n",
       "      <td>Saturday</td>\n",
       "      <td>Colorado</td>\n",
       "      <td>Aurora</td>\n",
       "      <td>NaN</td>\n",
       "      <td>4</td>\n",
       "      <td>...</td>\n",
       "      <td>0</td>\n",
       "      <td>1</td>\n",
       "      <td>1</td>\n",
       "      <td>1</td>\n",
       "      <td>0</td>\n",
       "      <td>0</td>\n",
       "      <td>0</td>\n",
       "      <td>1</td>\n",
       "      <td>0</td>\n",
       "      <td>0</td>\n",
       "    </tr>\n",
       "    <tr>\n",
       "      <th>4</th>\n",
       "      <td>4</td>\n",
       "      <td>478959</td>\n",
       "      <td>2013</td>\n",
       "      <td>1</td>\n",
       "      <td>7</td>\n",
       "      <td>Monday</td>\n",
       "      <td>North Carolina</td>\n",
       "      <td>Greensboro</td>\n",
       "      <td>2.0</td>\n",
       "      <td>2</td>\n",
       "      <td>...</td>\n",
       "      <td>1</td>\n",
       "      <td>1</td>\n",
       "      <td>0</td>\n",
       "      <td>1</td>\n",
       "      <td>0</td>\n",
       "      <td>0</td>\n",
       "      <td>0</td>\n",
       "      <td>0</td>\n",
       "      <td>1</td>\n",
       "      <td>0</td>\n",
       "    </tr>\n",
       "  </tbody>\n",
       "</table>\n",
       "<p>5 rows × 27 columns</p>\n",
       "</div>"
      ],
      "text/plain": [
       "   Unnamed: 0  incident_id  year  month  day day_of_week           state  \\\n",
       "0           0       461105  2013      1    1     Tuesday    Pennsylvania   \n",
       "1           1       460726  2013      1    1     Tuesday      California   \n",
       "2           2       478855  2013      1    1     Tuesday            Ohio   \n",
       "3           3       478925  2013      1    5    Saturday        Colorado   \n",
       "4           4       478959  2013      1    7      Monday  North Carolina   \n",
       "\n",
       "  city_or_county  n_guns_involved  n_killed  ...  victim_0-17  victim_18-30  \\\n",
       "0     Mckeesport              NaN         0  ...            0             1   \n",
       "1      Hawthorne              NaN         1  ...            0             1   \n",
       "2         Lorain              2.0         1  ...            0             0   \n",
       "3         Aurora              NaN         4  ...            0             1   \n",
       "4     Greensboro              2.0         2  ...            1             1   \n",
       "\n",
       "   victim_31-45  victim_46-60  victim_61+  suspect_0-17  suspect_18-30  \\\n",
       "0             0             0           0             0              0   \n",
       "1             0             0           0             0              0   \n",
       "2             3             0           0             0              1   \n",
       "3             1             1           0             0              0   \n",
       "4             0             1           0             0              0   \n",
       "\n",
       "   suspect_31-45  suspect_46-60  suspect_61+  \n",
       "0              0              0            0  \n",
       "1              0              0            0  \n",
       "2              1              0            0  \n",
       "3              1              0            0  \n",
       "4              0              1            0  \n",
       "\n",
       "[5 rows x 27 columns]"
      ]
     },
     "execution_count": 5,
     "metadata": {},
     "output_type": "execute_result"
    }
   ],
   "source": [
    "gun_violence_df.head()"
   ]
  },
  {
   "cell_type": "code",
   "execution_count": 6,
   "id": "256a6efd",
   "metadata": {},
   "outputs": [
    {
     "data": {
      "text/plain": [
       "(239677, 27)"
      ]
     },
     "execution_count": 6,
     "metadata": {},
     "output_type": "execute_result"
    }
   ],
   "source": [
    "gun_violence_df.shape"
   ]
  },
  {
   "cell_type": "code",
   "execution_count": 7,
   "id": "772ee0bf",
   "metadata": {},
   "outputs": [
    {
     "data": {
      "text/plain": [
       "Index(['Unnamed: 0', 'incident_id', 'year', 'month', 'day', 'day_of_week',\n",
       "       'state', 'city_or_county', 'n_guns_involved', 'n_killed', 'n_injured',\n",
       "       'victim_count', 'suspect_count', 'male_victims_count',\n",
       "       'female_victims_count', 'male_suspects_count', 'female_suspects_count',\n",
       "       'victim_0-17', 'victim_18-30', 'victim_31-45', 'victim_46-60',\n",
       "       'victim_61+', 'suspect_0-17', 'suspect_18-30', 'suspect_31-45',\n",
       "       'suspect_46-60', 'suspect_61+'],\n",
       "      dtype='object')"
      ]
     },
     "execution_count": 7,
     "metadata": {},
     "output_type": "execute_result"
    }
   ],
   "source": [
    "gun_violence_df.columns"
   ]
  },
  {
   "cell_type": "code",
   "execution_count": 8,
   "id": "65c555dc",
   "metadata": {},
   "outputs": [],
   "source": [
    "# Function to convert month number to name\n",
    "gun_violence_df['month'] = gun_violence_df['month'].apply(lambda x: calendar.month_name[x])"
   ]
  },
  {
   "cell_type": "code",
   "execution_count": 13,
   "id": "3d441b2a",
   "metadata": {},
   "outputs": [],
   "source": [
    "# Handle missing values by filling them with 0 (if necessary)\n",
    "gun_violence_df['victim_count'] = gun_violence_df['victim_count'].fillna(0)\n",
    "gun_violence_df['suspect_count'] = gun_violence_df['suspect_count'].fillna(0)\n",
    "\n",
    "# Create the 'n_participants' column as the sum of 'victim_count' and 'suspect_count'\n",
    "gun_violence_df['n_participants'] = gun_violence_df['victim_count'] + gun_violence_df['suspect_count']"
   ]
  },
  {
   "cell_type": "code",
   "execution_count": 14,
   "id": "99d2b3fd",
   "metadata": {
    "scrolled": false
   },
   "outputs": [
    {
     "name": "stdout",
     "output_type": "stream",
     "text": [
      "<class 'pandas.core.frame.DataFrame'>\n",
      "RangeIndex: 239677 entries, 0 to 239676\n",
      "Data columns (total 28 columns):\n",
      " #   Column                 Non-Null Count   Dtype  \n",
      "---  ------                 --------------   -----  \n",
      " 0   Unnamed: 0             239677 non-null  int64  \n",
      " 1   incident_id            239677 non-null  object \n",
      " 2   year                   239677 non-null  object \n",
      " 3   month                  239677 non-null  object \n",
      " 4   day                    239677 non-null  object \n",
      " 5   day_of_week            239677 non-null  object \n",
      " 6   state                  239677 non-null  object \n",
      " 7   city_or_county         239677 non-null  object \n",
      " 8   n_guns_involved        140226 non-null  float64\n",
      " 9   n_killed               239677 non-null  int64  \n",
      " 10  n_injured              239677 non-null  int64  \n",
      " 11  victim_count           239677 non-null  int64  \n",
      " 12  suspect_count          239677 non-null  int64  \n",
      " 13  male_victims_count     239677 non-null  int64  \n",
      " 14  female_victims_count   239677 non-null  int64  \n",
      " 15  male_suspects_count    239677 non-null  int64  \n",
      " 16  female_suspects_count  239677 non-null  int64  \n",
      " 17  victim_0-17            239677 non-null  int64  \n",
      " 18  victim_18-30           239677 non-null  int64  \n",
      " 19  victim_31-45           239677 non-null  int64  \n",
      " 20  victim_46-60           239677 non-null  int64  \n",
      " 21  victim_61+             239677 non-null  int64  \n",
      " 22  suspect_0-17           239677 non-null  int64  \n",
      " 23  suspect_18-30          239677 non-null  int64  \n",
      " 24  suspect_31-45          239677 non-null  int64  \n",
      " 25  suspect_46-60          239677 non-null  int64  \n",
      " 26  suspect_61+            239677 non-null  int64  \n",
      " 27  n_participants         239677 non-null  int64  \n",
      "dtypes: float64(1), int64(20), object(7)\n",
      "memory usage: 51.2+ MB\n"
     ]
    }
   ],
   "source": [
    "gun_violence_df.info()"
   ]
  },
  {
   "cell_type": "code",
   "execution_count": 10,
   "id": "1f5a71d0",
   "metadata": {},
   "outputs": [],
   "source": [
    "columns_to_convert = ['year', 'day', 'incident_id']  \n",
    "for column in columns_to_convert:\n",
    "    gun_violence_df[column] = gun_violence_df[column].astype(str)"
   ]
  },
  {
   "cell_type": "code",
   "execution_count": 11,
   "id": "72b294af",
   "metadata": {},
   "outputs": [
    {
     "name": "stdout",
     "output_type": "stream",
     "text": [
      "<class 'pandas.core.frame.DataFrame'>\n",
      "RangeIndex: 239677 entries, 0 to 239676\n",
      "Data columns (total 27 columns):\n",
      " #   Column                 Non-Null Count   Dtype  \n",
      "---  ------                 --------------   -----  \n",
      " 0   Unnamed: 0             239677 non-null  int64  \n",
      " 1   incident_id            239677 non-null  object \n",
      " 2   year                   239677 non-null  object \n",
      " 3   month                  239677 non-null  object \n",
      " 4   day                    239677 non-null  object \n",
      " 5   day_of_week            239677 non-null  object \n",
      " 6   state                  239677 non-null  object \n",
      " 7   city_or_county         239677 non-null  object \n",
      " 8   n_guns_involved        140226 non-null  float64\n",
      " 9   n_killed               239677 non-null  int64  \n",
      " 10  n_injured              239677 non-null  int64  \n",
      " 11  victim_count           239677 non-null  int64  \n",
      " 12  suspect_count          239677 non-null  int64  \n",
      " 13  male_victims_count     239677 non-null  int64  \n",
      " 14  female_victims_count   239677 non-null  int64  \n",
      " 15  male_suspects_count    239677 non-null  int64  \n",
      " 16  female_suspects_count  239677 non-null  int64  \n",
      " 17  victim_0-17            239677 non-null  int64  \n",
      " 18  victim_18-30           239677 non-null  int64  \n",
      " 19  victim_31-45           239677 non-null  int64  \n",
      " 20  victim_46-60           239677 non-null  int64  \n",
      " 21  victim_61+             239677 non-null  int64  \n",
      " 22  suspect_0-17           239677 non-null  int64  \n",
      " 23  suspect_18-30          239677 non-null  int64  \n",
      " 24  suspect_31-45          239677 non-null  int64  \n",
      " 25  suspect_46-60          239677 non-null  int64  \n",
      " 26  suspect_61+            239677 non-null  int64  \n",
      "dtypes: float64(1), int64(19), object(7)\n",
      "memory usage: 49.4+ MB\n"
     ]
    }
   ],
   "source": [
    "gun_violence_df.info()"
   ]
  },
  {
   "cell_type": "code",
   "execution_count": 15,
   "id": "fc40b37b",
   "metadata": {},
   "outputs": [],
   "source": [
    "#Deleted unnecessary columns\n",
    "gun_violence_df = gun_violence_df.drop(columns=['Unnamed: 0'])"
   ]
  },
  {
   "cell_type": "code",
   "execution_count": 16,
   "id": "befca47f",
   "metadata": {},
   "outputs": [
    {
     "data": {
      "text/plain": [
       "0         False\n",
       "1         False\n",
       "2         False\n",
       "3         False\n",
       "4         False\n",
       "          ...  \n",
       "239672    False\n",
       "239673    False\n",
       "239674    False\n",
       "239675    False\n",
       "239676    False\n",
       "Length: 239677, dtype: bool"
      ]
     },
     "execution_count": 16,
     "metadata": {},
     "output_type": "execute_result"
    }
   ],
   "source": [
    "#Checked for duplicates\n",
    "gun_violence_df.duplicated()"
   ]
  },
  {
   "cell_type": "code",
   "execution_count": 17,
   "id": "3cd6da8c",
   "metadata": {},
   "outputs": [
    {
     "data": {
      "text/plain": [
       "incident_id                  0\n",
       "year                         0\n",
       "month                        0\n",
       "day                          0\n",
       "day_of_week                  0\n",
       "state                        0\n",
       "city_or_county               0\n",
       "n_guns_involved          99451\n",
       "n_killed                     0\n",
       "n_injured                    0\n",
       "victim_count                 0\n",
       "suspect_count                0\n",
       "male_victims_count           0\n",
       "female_victims_count         0\n",
       "male_suspects_count          0\n",
       "female_suspects_count        0\n",
       "victim_0-17                  0\n",
       "victim_18-30                 0\n",
       "victim_31-45                 0\n",
       "victim_46-60                 0\n",
       "victim_61+                   0\n",
       "suspect_0-17                 0\n",
       "suspect_18-30                0\n",
       "suspect_31-45                0\n",
       "suspect_46-60                0\n",
       "suspect_61+                  0\n",
       "n_participants               0\n",
       "dtype: int64"
      ]
     },
     "execution_count": 17,
     "metadata": {},
     "output_type": "execute_result"
    }
   ],
   "source": [
    "#Checked for missing values \n",
    "gun_violence_df.isnull().sum()"
   ]
  },
  {
   "cell_type": "code",
   "execution_count": 18,
   "id": "9965a689",
   "metadata": {},
   "outputs": [],
   "source": [
    "# Calculate the median of the 'n_guns_involved' column\n",
    "median_guns = gun_violence_df['n_guns_involved'].median()\n",
    "\n",
    "# Fill missing values in 'n_guns_involved' with the median\n",
    "gun_violence_df['n_guns_involved'] = gun_violence_df['n_guns_involved'].fillna(median_guns)"
   ]
  },
  {
   "cell_type": "code",
   "execution_count": 19,
   "id": "d04ffa99",
   "metadata": {},
   "outputs": [
    {
     "data": {
      "text/plain": [
       "incident_id              0\n",
       "year                     0\n",
       "month                    0\n",
       "day                      0\n",
       "day_of_week              0\n",
       "state                    0\n",
       "city_or_county           0\n",
       "n_guns_involved          0\n",
       "n_killed                 0\n",
       "n_injured                0\n",
       "victim_count             0\n",
       "suspect_count            0\n",
       "male_victims_count       0\n",
       "female_victims_count     0\n",
       "male_suspects_count      0\n",
       "female_suspects_count    0\n",
       "victim_0-17              0\n",
       "victim_18-30             0\n",
       "victim_31-45             0\n",
       "victim_46-60             0\n",
       "victim_61+               0\n",
       "suspect_0-17             0\n",
       "suspect_18-30            0\n",
       "suspect_31-45            0\n",
       "suspect_46-60            0\n",
       "suspect_61+              0\n",
       "n_participants           0\n",
       "dtype: int64"
      ]
     },
     "execution_count": 19,
     "metadata": {},
     "output_type": "execute_result"
    }
   ],
   "source": [
    "#Checked for missing values \n",
    "gun_violence_df.isnull().sum()"
   ]
  },
  {
   "cell_type": "markdown",
   "id": "364540f6",
   "metadata": {},
   "source": [
    "## Task 3 - Use the elbow technique as shown in the Jupyter notebook for this Exercise."
   ]
  },
  {
   "cell_type": "code",
   "execution_count": 22,
   "id": "63c130e6",
   "metadata": {},
   "outputs": [],
   "source": [
    "# Select only numerical columns\n",
    "numerical_data_df = gun_violence_df.select_dtypes(include=['int64', 'float64'])"
   ]
  },
  {
   "cell_type": "code",
   "execution_count": 23,
   "id": "30f9311c",
   "metadata": {},
   "outputs": [],
   "source": [
    "num_cl = range(1, 10) # Defines the range of potential clusters in the data.\n",
    "kmeans = [KMeans(n_clusters=i) for i in num_cl] # Defines k-means clusters in the range assigned above."
   ]
  },
  {
   "cell_type": "code",
   "execution_count": 24,
   "id": "e7350815",
   "metadata": {},
   "outputs": [
    {
     "data": {
      "text/plain": [
       "[-4701900.943644917,\n",
       " -2788381.531339254,\n",
       " -2177791.1266629063,\n",
       " -1776355.1354314948,\n",
       " -1526040.232521628,\n",
       " -1336941.083983399,\n",
       " -1195716.652538781,\n",
       " -1104752.7045683987,\n",
       " -1015405.6649495123]"
      ]
     },
     "execution_count": 24,
     "metadata": {},
     "output_type": "execute_result"
    }
   ],
   "source": [
    "score = [kmeans[i].fit(numerical_data_df).score(numerical_data_df) for i in range(len(kmeans))] # Creates a score that represents \n",
    "# a rate of variation for the given cluster option.\n",
    "\n",
    "score"
   ]
  },
  {
   "cell_type": "code",
   "execution_count": 25,
   "id": "ec0b30fd",
   "metadata": {},
   "outputs": [
    {
     "data": {
      "image/png": "[encoded data removed]",
      "text/plain": [
       "<Figure size 640x480 with 1 Axes>"
      ]
     },
     "metadata": {},
     "output_type": "display_data"
    }
   ],
   "source": [
    "# Plot the elbow curve using PyLab.\n",
    "\n",
    "pl.plot(num_cl,score)\n",
    "pl.xlabel('Number of Clusters')\n",
    "pl.ylabel('Score')\n",
    "pl.title('Elbow Curve')\n",
    "pl.show()"
   ]
  },
  {
   "cell_type": "markdown",
   "id": "478a57ad",
   "metadata": {},
   "source": [
    "## Task 4 - Make an informed decision about the number of clusters you’ll use in your k-means algorithm based on the chart.\n",
    "\n",
    "-    Explain why you chose that number in a markdown cell.\n",
    "-    If you run into any problems determining the optimal number of clusters using the elbow technique, reach out to your tutor for suggestion\n",
    "\n"
   ]
  },
  {
   "cell_type": "markdown",
   "id": "7cc8ae29",
   "metadata": {},
   "source": [
    "#### Optimal Number of Clusters\n",
    "\n",
    "After analyzing the elbow chart, I chose **4** clusters for the k-means algorithm. This decision was based on the observation that at **4** clusters, the WCSS begins to decrease at a slower rate, indicating diminishing returns for additional clusters. This suggests that **4** clusters are sufficient to capture the significant structure of the data without overfitting.\n",
    "\n",
    "It's important to note that while the elbow method provides a useful heuristic, the decision is somewhat subjective, and the chosen number of clusters also aligns with the practical context of our analysis.\n"
   ]
  },
  {
   "cell_type": "markdown",
   "id": "26143384",
   "metadata": {},
   "source": [
    "## Task 5 - Run k-means clustering"
   ]
  },
  {
   "cell_type": "code",
   "execution_count": 26,
   "id": "5e924323",
   "metadata": {},
   "outputs": [],
   "source": [
    "# Create the k-means object.\n",
    "\n",
    "kmeans = KMeans(n_clusters = 4) \n"
   ]
  },
  {
   "cell_type": "code",
   "execution_count": 27,
   "id": "f8e71bed",
   "metadata": {},
   "outputs": [
    {
     "data": {
      "text/plain": [
       "KMeans(n_clusters=4)"
      ]
     },
     "execution_count": 27,
     "metadata": {},
     "output_type": "execute_result"
    }
   ],
   "source": [
    "# Fit the k-means object to the data.\n",
    "\n",
    "kmeans.fit(numerical_data_df)"
   ]
  },
  {
   "cell_type": "markdown",
   "id": "ae0e5d59",
   "metadata": {},
   "source": [
    "## Task 6 - Attach a new column to your dataframe with the resulting clusters as shown in the Exercise. This will allow you to create a visualization using your clusters."
   ]
  },
  {
   "cell_type": "code",
   "execution_count": 29,
   "id": "f35f4d49",
   "metadata": {},
   "outputs": [],
   "source": [
    "numerical_data_df['clusters'] = kmeans.fit_predict(numerical_data_df)"
   ]
  },
  {
   "cell_type": "code",
   "execution_count": 30,
   "id": "96fb76e2",
   "metadata": {},
   "outputs": [
    {
     "data": {
      "text/html": [
       "<div>\n",
       "<style scoped>\n",
       "    .dataframe tbody tr th:only-of-type {\n",
       "        vertical-align: middle;\n",
       "    }\n",
       "\n",
       "    .dataframe tbody tr th {\n",
       "        vertical-align: top;\n",
       "    }\n",
       "\n",
       "    .dataframe thead th {\n",
       "        text-align: right;\n",
       "    }\n",
       "</style>\n",
       "<table border=\"1\" class=\"dataframe\">\n",
       "  <thead>\n",
       "    <tr style=\"text-align: right;\">\n",
       "      <th></th>\n",
       "      <th>n_guns_involved</th>\n",
       "      <th>n_killed</th>\n",
       "      <th>n_injured</th>\n",
       "      <th>victim_count</th>\n",
       "      <th>suspect_count</th>\n",
       "      <th>male_victims_count</th>\n",
       "      <th>female_victims_count</th>\n",
       "      <th>male_suspects_count</th>\n",
       "      <th>female_suspects_count</th>\n",
       "      <th>victim_0-17</th>\n",
       "      <th>...</th>\n",
       "      <th>victim_31-45</th>\n",
       "      <th>victim_46-60</th>\n",
       "      <th>victim_61+</th>\n",
       "      <th>suspect_0-17</th>\n",
       "      <th>suspect_18-30</th>\n",
       "      <th>suspect_31-45</th>\n",
       "      <th>suspect_46-60</th>\n",
       "      <th>suspect_61+</th>\n",
       "      <th>n_participants</th>\n",
       "      <th>clusters</th>\n",
       "    </tr>\n",
       "  </thead>\n",
       "  <tbody>\n",
       "    <tr>\n",
       "      <th>0</th>\n",
       "      <td>1.0</td>\n",
       "      <td>0</td>\n",
       "      <td>4</td>\n",
       "      <td>4</td>\n",
       "      <td>1</td>\n",
       "      <td>4</td>\n",
       "      <td>1</td>\n",
       "      <td>0</td>\n",
       "      <td>0</td>\n",
       "      <td>0</td>\n",
       "      <td>...</td>\n",
       "      <td>0</td>\n",
       "      <td>0</td>\n",
       "      <td>0</td>\n",
       "      <td>0</td>\n",
       "      <td>0</td>\n",
       "      <td>0</td>\n",
       "      <td>0</td>\n",
       "      <td>0</td>\n",
       "      <td>5</td>\n",
       "      <td>0</td>\n",
       "    </tr>\n",
       "    <tr>\n",
       "      <th>1</th>\n",
       "      <td>1.0</td>\n",
       "      <td>1</td>\n",
       "      <td>3</td>\n",
       "      <td>4</td>\n",
       "      <td>1</td>\n",
       "      <td>1</td>\n",
       "      <td>0</td>\n",
       "      <td>0</td>\n",
       "      <td>0</td>\n",
       "      <td>0</td>\n",
       "      <td>...</td>\n",
       "      <td>0</td>\n",
       "      <td>0</td>\n",
       "      <td>0</td>\n",
       "      <td>0</td>\n",
       "      <td>0</td>\n",
       "      <td>0</td>\n",
       "      <td>0</td>\n",
       "      <td>0</td>\n",
       "      <td>5</td>\n",
       "      <td>0</td>\n",
       "    </tr>\n",
       "    <tr>\n",
       "      <th>2</th>\n",
       "      <td>2.0</td>\n",
       "      <td>1</td>\n",
       "      <td>3</td>\n",
       "      <td>3</td>\n",
       "      <td>2</td>\n",
       "      <td>3</td>\n",
       "      <td>0</td>\n",
       "      <td>2</td>\n",
       "      <td>0</td>\n",
       "      <td>0</td>\n",
       "      <td>...</td>\n",
       "      <td>3</td>\n",
       "      <td>0</td>\n",
       "      <td>0</td>\n",
       "      <td>0</td>\n",
       "      <td>1</td>\n",
       "      <td>1</td>\n",
       "      <td>0</td>\n",
       "      <td>0</td>\n",
       "      <td>5</td>\n",
       "      <td>0</td>\n",
       "    </tr>\n",
       "    <tr>\n",
       "      <th>3</th>\n",
       "      <td>1.0</td>\n",
       "      <td>4</td>\n",
       "      <td>0</td>\n",
       "      <td>3</td>\n",
       "      <td>1</td>\n",
       "      <td>3</td>\n",
       "      <td>1</td>\n",
       "      <td>1</td>\n",
       "      <td>0</td>\n",
       "      <td>0</td>\n",
       "      <td>...</td>\n",
       "      <td>1</td>\n",
       "      <td>1</td>\n",
       "      <td>0</td>\n",
       "      <td>0</td>\n",
       "      <td>0</td>\n",
       "      <td>1</td>\n",
       "      <td>0</td>\n",
       "      <td>0</td>\n",
       "      <td>4</td>\n",
       "      <td>0</td>\n",
       "    </tr>\n",
       "    <tr>\n",
       "      <th>4</th>\n",
       "      <td>2.0</td>\n",
       "      <td>2</td>\n",
       "      <td>2</td>\n",
       "      <td>3</td>\n",
       "      <td>1</td>\n",
       "      <td>3</td>\n",
       "      <td>1</td>\n",
       "      <td>1</td>\n",
       "      <td>1</td>\n",
       "      <td>1</td>\n",
       "      <td>...</td>\n",
       "      <td>0</td>\n",
       "      <td>1</td>\n",
       "      <td>0</td>\n",
       "      <td>0</td>\n",
       "      <td>0</td>\n",
       "      <td>0</td>\n",
       "      <td>1</td>\n",
       "      <td>0</td>\n",
       "      <td>4</td>\n",
       "      <td>0</td>\n",
       "    </tr>\n",
       "  </tbody>\n",
       "</table>\n",
       "<p>5 rows × 21 columns</p>\n",
       "</div>"
      ],
      "text/plain": [
       "   n_guns_involved  n_killed  n_injured  victim_count  suspect_count  \\\n",
       "0              1.0         0          4             4              1   \n",
       "1              1.0         1          3             4              1   \n",
       "2              2.0         1          3             3              2   \n",
       "3              1.0         4          0             3              1   \n",
       "4              2.0         2          2             3              1   \n",
       "\n",
       "   male_victims_count  female_victims_count  male_suspects_count  \\\n",
       "0                   4                     1                    0   \n",
       "1                   1                     0                    0   \n",
       "2                   3                     0                    2   \n",
       "3                   3                     1                    1   \n",
       "4                   3                     1                    1   \n",
       "\n",
       "   female_suspects_count  victim_0-17  ...  victim_31-45  victim_46-60  \\\n",
       "0                      0            0  ...             0             0   \n",
       "1                      0            0  ...             0             0   \n",
       "2                      0            0  ...             3             0   \n",
       "3                      0            0  ...             1             1   \n",
       "4                      1            1  ...             0             1   \n",
       "\n",
       "   victim_61+  suspect_0-17  suspect_18-30  suspect_31-45  suspect_46-60  \\\n",
       "0           0             0              0              0              0   \n",
       "1           0             0              0              0              0   \n",
       "2           0             0              1              1              0   \n",
       "3           0             0              0              1              0   \n",
       "4           0             0              0              0              1   \n",
       "\n",
       "   suspect_61+  n_participants  clusters  \n",
       "0            0               5         0  \n",
       "1            0               5         0  \n",
       "2            0               5         0  \n",
       "3            0               4         0  \n",
       "4            0               4         0  \n",
       "\n",
       "[5 rows x 21 columns]"
      ]
     },
     "execution_count": 30,
     "metadata": {},
     "output_type": "execute_result"
    }
   ],
   "source": [
    "numerical_data_df.head()"
   ]
  },
  {
   "cell_type": "code",
   "execution_count": 31,
   "id": "7a4ae7cf",
   "metadata": {},
   "outputs": [
    {
     "data": {
      "text/plain": [
       "1    201435\n",
       "0     37702\n",
       "3       518\n",
       "2        22\n",
       "Name: clusters, dtype: int64"
      ]
     },
     "execution_count": 31,
     "metadata": {},
     "output_type": "execute_result"
    }
   ],
   "source": [
    "numerical_data_df['clusters'].value_counts()"
   ]
  },
  {
   "cell_type": "markdown",
   "id": "ac7449c6",
   "metadata": {},
   "source": [
    "## Task 7 - Create a few different visualizations (e.g., scatterplots) using your clustered data. Try plotting different variables against each other to see the results in terms of the clusters."
   ]
  },
  {
   "cell_type": "code",
   "execution_count": 46,
   "id": "742a347f",
   "metadata": {},
   "outputs": [
    {
     "data": {
      "image/png": "[encoded data removed]",
      "text/plain": [
       "<Figure size 1200x800 with 1 Axes>"
      ]
     },
     "metadata": {},
     "output_type": "display_data"
    }
   ],
   "source": [
    "# Plot the clusters for the \"Numer of guns involved\" and \"number of people killed\" variables.\n",
    "plt.figure(figsize=(12,8))\n",
    "ax = sns.scatterplot(x=numerical_data_df['n_killed'], y=numerical_data_df['n_guns_involved'], hue=kmeans.labels_, s=100)\n",
    "# Here, you're subsetting `X` for the x and y arguments to avoid using their labels. \n",
    "# `hue` takes the value of the attribute `kmeans.labels_`, which is the result of running the k-means algorithm.\n",
    "# `s` represents the size of the points you want to see in the plot.\n",
    "\n",
    "# Removing the grid, setting labels\n",
    "ax.grid(False)\n",
    "plt.xlabel('Number of kills')\n",
    "plt.ylabel('Number of guns involved')\n",
    "\n",
    "# Save the plot before showing it\n",
    "plt.savefig('number_of_guns_vs_kills.png', dpi=300)\n",
    "\n",
    "# Display the plot\n",
    "plt.show()"
   ]
  },
  {
   "cell_type": "code",
   "execution_count": 47,
   "id": "c500175b",
   "metadata": {
    "scrolled": false
   },
   "outputs": [
    {
     "data": {
      "image/png": "[encoded data removed]",
      "text/plain": [
       "<Figure size 1200x800 with 1 Axes>"
      ]
     },
     "metadata": {},
     "output_type": "display_data"
    }
   ],
   "source": [
    "#plot number of kills vs number of participants\n",
    "\n",
    "plt.figure(figsize=(12,8))\n",
    "ax = sns.scatterplot(x=numerical_data_df['n_killed'], y=numerical_data_df['n_participants'], hue=kmeans.labels_, s=100) \n",
    "\n",
    "ax.grid(False) # This removes the grid from the background.\n",
    "plt.xlabel('Number of kills') # Label x-axis.\n",
    "plt.ylabel('Number of participants ') # Label y-axis.\n",
    "\n",
    "# Save the plot before showing it\n",
    "plt.savefig('number_of_kills_vs_number_of_participants.png', dpi=300)\n",
    "\n",
    "plt.show()"
   ]
  },
  {
   "cell_type": "code",
   "execution_count": 48,
   "id": "d17f347c",
   "metadata": {},
   "outputs": [
    {
     "data": {
      "image/png": "[encoded data removed]",
      "text/plain": [
       "<Figure size 1200x800 with 1 Axes>"
      ]
     },
     "metadata": {},
     "output_type": "display_data"
    }
   ],
   "source": [
    "#plot number of kills vs femaile victims\n",
    "\n",
    "plt.figure(figsize=(12,8))\n",
    "ax = sns.scatterplot(x=numerical_data_df['n_killed'], y=numerical_data_df['female_victims_count'], hue=kmeans.labels_, s=100) \n",
    "\n",
    "ax.grid(False) # This removes the grid from the background.\n",
    "plt.xlabel('Number of kills') # Label x-axis.\n",
    "plt.ylabel('Number of female victims') # Label y-axis.\n",
    "\n",
    "# Save the plot before showing it\n",
    "plt.savefig('number_of_kills_vs_number_of_female_victims.png', dpi=300)\n",
    "\n",
    "plt.show()"
   ]
  },
  {
   "cell_type": "markdown",
   "id": "c43f2580",
   "metadata": {},
   "source": [
    "## Task 8 - Discuss how and why the clusters make sense. If they don’t make sense, however, this is also useful insight, as it means you’ll need to explore the data further.\n",
    "\n",
    "-    Note down your thoughts in a markdown cell.\n"
   ]
  },
  {
   "cell_type": "markdown",
   "id": "ddc53cf8",
   "metadata": {},
   "source": [
    "1. **Number of Guns Involved vs Number of Kills:**\n",
    "      - The first plot shows a concentration of data points near the origin, indicating that most incidents involve a small number of guns and result in few kills.\n",
    "      - There are a few outliers with a higher number of guns involved or kills, which could represent more severe incidents.\n",
    "      - The clusters do not appear to be distinctly separated, suggesting that the relationship between the number of guns involved and the number of kills might not be straightforward or may be influenced by other factors not included in the plot.\n",
    "\n",
    "2. **Number of Kills vs Number of Female Victims:**\n",
    "      - The second plot also shows a dense cluster near the origin, which could indicate that incidents often have fewer female victims and fewer kills in general.\n",
    "      - Similar to the first plot, the lack of clear cluster separation suggests that having more female victims does not necessarily correlate with a higher number of kills, or the data may be too spread out to form distinct clusters.\n",
    "\n",
    "3. **Number of Kills vs Number of Participants:**\n",
    "      - The third plot shows some degree of clustering, with incidents involving more participants tending to have a higher number of kills. This might be expected, as incidents with more people involved could lead to more casualties.\n",
    "      - However, there's also a significant number of incidents with a high number of participants but fewer kills, which could indicate the presence of other variables affecting the outcomes of these incidents."
   ]
  },
  {
   "cell_type": "markdown",
   "id": "a7a172c3",
   "metadata": {},
   "source": [
    "### Cluster Analysis for Gun-Related Incident Data\n",
    "\n",
    "### Observations:\n",
    "- There is a tendency for most incidents to involve fewer guns and result in fewer kills, as seen in the dense clustering near the origin in the plots.\n",
    "- A higher number of female victims does not appear to correlate with a higher number of kills, suggesting the impact of other unexamined factors.\n",
    "- Incidents with more participants show a mixed pattern, with both low and high numbers of kills, indicating that the presence of more people at the scene does not consistently lead to more fatalities.\n",
    "\n",
    "### Insights:\n",
    "- The lack of distinct clusters in the plots may indicate that the relationships between the examined variables are not straightforward.\n",
    "- The data might require a more detailed analysis, potentially involving additional variables or employing different clustering algorithms.\n",
    "- The current clustering might not be capturing the true underlying patterns in the data, and further exploration is warranted to better understand the dynamics of these incidents."
   ]
  },
  {
   "cell_type": "markdown",
   "id": "0645d292",
   "metadata": {},
   "source": [
    "## Task 9 - Calculate the descriptive statistics for your clusters using the groupby() function and discuss your findings."
   ]
  },
  {
   "cell_type": "code",
   "execution_count": 49,
   "id": "4dd6e327",
   "metadata": {},
   "outputs": [],
   "source": [
    "#create a column that renames the clusters to colors \n",
    "numerical_data_df.loc[numerical_data_df['clusters'] == 3, 'cluster'] = 'black'\n",
    "numerical_data_df.loc[numerical_data_df['clusters'] == 2, 'cluster'] = 'dark purple'\n",
    "numerical_data_df.loc[numerical_data_df['clusters'] == 1, 'cluster'] = 'purple'\n",
    "numerical_data_df.loc[numerical_data_df['clusters'] == 0, 'cluster'] = 'pink'"
   ]
  },
  {
   "cell_type": "code",
   "execution_count": 50,
   "id": "c3120761",
   "metadata": {},
   "outputs": [
    {
     "data": {
      "text/html": [
       "<div>\n",
       "<style scoped>\n",
       "    .dataframe tbody tr th:only-of-type {\n",
       "        vertical-align: middle;\n",
       "    }\n",
       "\n",
       "    .dataframe tbody tr th {\n",
       "        vertical-align: top;\n",
       "    }\n",
       "\n",
       "    .dataframe thead tr th {\n",
       "        text-align: left;\n",
       "    }\n",
       "\n",
       "    .dataframe thead tr:last-of-type th {\n",
       "        text-align: right;\n",
       "    }\n",
       "</style>\n",
       "<table border=\"1\" class=\"dataframe\">\n",
       "  <thead>\n",
       "    <tr>\n",
       "      <th></th>\n",
       "      <th colspan=\"2\" halign=\"left\">n_killed</th>\n",
       "      <th colspan=\"2\" halign=\"left\">female_victims_count</th>\n",
       "      <th colspan=\"2\" halign=\"left\">n_participants</th>\n",
       "      <th colspan=\"2\" halign=\"left\">n_guns_involved</th>\n",
       "    </tr>\n",
       "    <tr>\n",
       "      <th></th>\n",
       "      <th>mean</th>\n",
       "      <th>median</th>\n",
       "      <th>mean</th>\n",
       "      <th>median</th>\n",
       "      <th>mean</th>\n",
       "      <th>median</th>\n",
       "      <th>mean</th>\n",
       "      <th>median</th>\n",
       "    </tr>\n",
       "    <tr>\n",
       "      <th>cluster</th>\n",
       "      <th></th>\n",
       "      <th></th>\n",
       "      <th></th>\n",
       "      <th></th>\n",
       "      <th></th>\n",
       "      <th></th>\n",
       "      <th></th>\n",
       "      <th></th>\n",
       "    </tr>\n",
       "  </thead>\n",
       "  <tbody>\n",
       "    <tr>\n",
       "      <th>black</th>\n",
       "      <td>0.023166</td>\n",
       "      <td>0.0</td>\n",
       "      <td>0.015444</td>\n",
       "      <td>0.0</td>\n",
       "      <td>2.067568</td>\n",
       "      <td>1.0</td>\n",
       "      <td>36.277992</td>\n",
       "      <td>29.0</td>\n",
       "    </tr>\n",
       "    <tr>\n",
       "      <th>dark purple</th>\n",
       "      <td>0.000000</td>\n",
       "      <td>0.0</td>\n",
       "      <td>0.000000</td>\n",
       "      <td>0.0</td>\n",
       "      <td>0.227273</td>\n",
       "      <td>0.0</td>\n",
       "      <td>293.727273</td>\n",
       "      <td>300.0</td>\n",
       "    </tr>\n",
       "    <tr>\n",
       "      <th>pink</th>\n",
       "      <td>0.400217</td>\n",
       "      <td>0.0</td>\n",
       "      <td>0.327622</td>\n",
       "      <td>0.0</td>\n",
       "      <td>3.738900</td>\n",
       "      <td>3.0</td>\n",
       "      <td>1.193862</td>\n",
       "      <td>1.0</td>\n",
       "    </tr>\n",
       "    <tr>\n",
       "      <th>purple</th>\n",
       "      <td>0.225219</td>\n",
       "      <td>0.0</td>\n",
       "      <td>0.091990</td>\n",
       "      <td>0.0</td>\n",
       "      <td>1.242500</td>\n",
       "      <td>1.0</td>\n",
       "      <td>1.100295</td>\n",
       "      <td>1.0</td>\n",
       "    </tr>\n",
       "  </tbody>\n",
       "</table>\n",
       "</div>"
      ],
      "text/plain": [
       "             n_killed        female_victims_count        n_participants  \\\n",
       "                 mean median                 mean median           mean   \n",
       "cluster                                                                   \n",
       "black        0.023166    0.0             0.015444    0.0       2.067568   \n",
       "dark purple  0.000000    0.0             0.000000    0.0       0.227273   \n",
       "pink         0.400217    0.0             0.327622    0.0       3.738900   \n",
       "purple       0.225219    0.0             0.091990    0.0       1.242500   \n",
       "\n",
       "                   n_guns_involved         \n",
       "            median            mean median  \n",
       "cluster                                    \n",
       "black          1.0       36.277992   29.0  \n",
       "dark purple    0.0      293.727273  300.0  \n",
       "pink           3.0        1.193862    1.0  \n",
       "purple         1.0        1.100295    1.0  "
      ]
     },
     "execution_count": 50,
     "metadata": {},
     "output_type": "execute_result"
    }
   ],
   "source": [
    "numerical_data_df.groupby('cluster').agg({\n",
    "    'n_killed':['mean','median'],\n",
    "    'female_victims_count':['mean','median'],\n",
    "    'n_participants':['mean','median'],\n",
    "    'n_guns_involved':['mean', 'median']\n",
    "})"
   ]
  },
  {
   "cell_type": "markdown",
   "id": "c8b5fd0c",
   "metadata": {},
   "source": [
    "### The descriptive statistics for the clusters suggest:\n",
    "\n",
    "1. **Black Cluster:** Fewer guns involved and a higher number of participants, suggesting incidents with potentially more chaos but less severe weaponry.\n",
    "\n",
    "2. **Dark Purple Cluster:** Moderate number of guns involved and fewer participants, indicating possibly planned or targeted incidents with no fatalities.\n",
    "\n",
    "3. **Pink Cluster:** Highest number of guns involved and a high number of participants, which could be indicative of more severe and possibly more chaotic incidents.\n",
    "\n",
    "The clusters hint at varying incident severities and dynamics, with the Black and Pink clusters showing higher participant involvement, and the Dark Purple cluster showing non-fatal outcomes despite the presence of firearms."
   ]
  },
  {
   "cell_type": "markdown",
   "id": "302031bd",
   "metadata": {},
   "source": [
    "## Task 10 - Propose what these results could be useful for in future steps of an analytics pipeline."
   ]
  },
  {
   "cell_type": "markdown",
   "id": "0440e972",
   "metadata": {},
   "source": [
    "The clustering results can be useful for:\n",
    "\n",
    "1. **Informing Policy:** Directing policy and law enforcement strategies based on cluster characteristics (e.g., clusters with more guns may need stricter controls).\n",
    "\n",
    "2. **Allocating Resources:** Prioritizing resource allocation, like emergency response, in areas with clusters indicating higher severity incidents.\n",
    "\n",
    "3. **Predictive Analysis:** Using clusters as labels for predictive modeling to forecast incident outcomes or classify new incidents.\n",
    "\n",
    "4. **Public Education:** Tailoring public safety messages to address the specific risks identified within each cluster.\n",
    "\n",
    "Overall, these insights can help focus efforts where they are most needed and improve the effectiveness of interventions."
   ]
  },
  {
   "cell_type": "code",
   "execution_count": null,
   "id": "a62275d3",
   "metadata": {},
   "outputs": [],
   "source": []
  }
 ],
 "metadata": {
  "kernelspec": {
   "display_name": "Python 3 (ipykernel)",
   "language": "python",
   "name": "python3"
  },
  "language_info": {
   "codemirror_mode": {
    "name": "ipython",
    "version": 3
   },
   "file_extension": ".py",
   "mimetype": "text/x-python",
   "name": "python",
   "nbconvert_exporter": "python",
   "pygments_lexer": "ipython3",
   "version": "3.9.13"
  }
 },
 "nbformat": 4,
 "nbformat_minor": 5
}

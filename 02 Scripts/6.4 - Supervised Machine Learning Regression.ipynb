{
 "cells": [
  {
   "cell_type": "markdown",
   "id": "9c3332d9",
   "metadata": {},
   "source": [
    "# 6.4: Supervised Machine Learning: Regression\n",
    "\n",
    "## Table of Content:¶\n",
    "\n",
    "### Task 1 - Install the scikit-learn library.\n",
    "\n",
    "### Task 2 - Import the libraries you need into a new notebook, including any necessary modules from scikit-learn.\n",
    "\n",
    "### Task 3 -Clean your data so that it’s ready for analysis.\n",
    "\n",
    "### Tas 4 - Explore your data visually (e.g., by way of a scatterplot), looking for variables whose relationship you’d like to test.\n",
    "\n",
    "### Task 5 - State your hypothesis in a markdown cell within your Jupyter notebook.\n",
    "\n",
    "### Task 6 - Reshape the variables into NumPy arrays, with X being the independent variable and y being the dependent variable.\n",
    "\n",
    "### Task 7 - Split the data into two sets: a training set and a test set.\n",
    "\n",
    "### Task 8 - Run a linear regression on the data.\n",
    "\n",
    "- First, fit the model you created to the training set.\n",
    "- Then, create a prediction for y on the test set.\n",
    "\n",
    "### Task 9 - Create a plot that shows the regression line on the test set.\n",
    "\n",
    "### Task 10 - Write your own interpretation of how well the line appears to fit the data in a markdown cell.\n",
    "\n",
    "### Task 11 - Check the model performance statistics—MSE and R2 score.\n",
    "\n",
    "### Task 12 - Compare the predicted y values with the actual y values in a dataframe.\n",
    "\n",
    "### Task 13 - Include your thoughts on how well the model performed on the test set in a markdown cell.\n",
    "\n",
    "- Include any reflections you have on the impact of possible data bias.\n",
    "\n",
    "***\n",
    "***"
   ]
  },
  {
   "cell_type": "markdown",
   "id": "b311737c",
   "metadata": {},
   "source": [
    "## Task 1 and Task 2:\n",
    "\n",
    "### - Install the scikit-learn library.\n",
    "### - Import the libraries you need into a new notebook, including any necessary modules from scikit-learn.\n"
   ]
  },
  {
   "cell_type": "markdown",
   "id": "c1dd22c0",
   "metadata": {},
   "source": [
    "## Import Libraries"
   ]
  },
  {
   "cell_type": "code",
   "execution_count": 1,
   "id": "a6b66792",
   "metadata": {},
   "outputs": [],
   "source": [
    "import pandas as pd\n",
    "import numpy as np\n",
    "import seaborn as sns\n",
    "import matplotlib\n",
    "import matplotlib.pyplot as plt\n",
    "import os\n",
    "import sklearn\n",
    "from sklearn.model_selection import train_test_split \n",
    "from sklearn.linear_model import LinearRegression\n",
    "from sklearn.metrics import mean_squared_error, r2_score"
   ]
  },
  {
   "cell_type": "markdown",
   "id": "17c0d794",
   "metadata": {},
   "source": [
    "## Import Data Set"
   ]
  },
  {
   "cell_type": "code",
   "execution_count": 2,
   "id": "6f9d012a",
   "metadata": {},
   "outputs": [],
   "source": [
    "path = r'C:\\Users\\facun\\Desktop\\Data Analysis\\CF\\Data Immersion\\Achievement 6\\Data Sets'"
   ]
  },
  {
   "cell_type": "code",
   "execution_count": 3,
   "id": "621784af",
   "metadata": {},
   "outputs": [],
   "source": [
    "gun_violence_df = pd.read_csv(os.path.join(path, 'Prepared', 'new_dataset.csv'), index_col = False)"
   ]
  },
  {
   "cell_type": "markdown",
   "id": "9d76f9a2",
   "metadata": {},
   "source": [
    "## Task 3 - Clean your data so that it’s ready for analysis."
   ]
  },
  {
   "cell_type": "markdown",
   "id": "f723f6d7",
   "metadata": {},
   "source": [
    "### EDA"
   ]
  },
  {
   "cell_type": "code",
   "execution_count": 4,
   "id": "adffe400",
   "metadata": {
    "scrolled": false
   },
   "outputs": [
    {
     "data": {
      "text/html": [
       "<div>\n",
       "<style scoped>\n",
       "    .dataframe tbody tr th:only-of-type {\n",
       "        vertical-align: middle;\n",
       "    }\n",
       "\n",
       "    .dataframe tbody tr th {\n",
       "        vertical-align: top;\n",
       "    }\n",
       "\n",
       "    .dataframe thead th {\n",
       "        text-align: right;\n",
       "    }\n",
       "</style>\n",
       "<table border=\"1\" class=\"dataframe\">\n",
       "  <thead>\n",
       "    <tr style=\"text-align: right;\">\n",
       "      <th></th>\n",
       "      <th>Unnamed: 0</th>\n",
       "      <th>incident_id</th>\n",
       "      <th>year</th>\n",
       "      <th>month</th>\n",
       "      <th>day</th>\n",
       "      <th>day_of_week</th>\n",
       "      <th>state</th>\n",
       "      <th>city_or_county</th>\n",
       "      <th>n_guns_involved</th>\n",
       "      <th>n_killed</th>\n",
       "      <th>...</th>\n",
       "      <th>victim_0-17</th>\n",
       "      <th>victim_18-30</th>\n",
       "      <th>victim_31-45</th>\n",
       "      <th>victim_46-60</th>\n",
       "      <th>victim_61+</th>\n",
       "      <th>suspect_0-17</th>\n",
       "      <th>suspect_18-30</th>\n",
       "      <th>suspect_31-45</th>\n",
       "      <th>suspect_46-60</th>\n",
       "      <th>suspect_61+</th>\n",
       "    </tr>\n",
       "  </thead>\n",
       "  <tbody>\n",
       "    <tr>\n",
       "      <th>0</th>\n",
       "      <td>0</td>\n",
       "      <td>461105</td>\n",
       "      <td>2013</td>\n",
       "      <td>1</td>\n",
       "      <td>1</td>\n",
       "      <td>Tuesday</td>\n",
       "      <td>Pennsylvania</td>\n",
       "      <td>Mckeesport</td>\n",
       "      <td>NaN</td>\n",
       "      <td>0</td>\n",
       "      <td>...</td>\n",
       "      <td>0</td>\n",
       "      <td>1</td>\n",
       "      <td>0</td>\n",
       "      <td>0</td>\n",
       "      <td>0</td>\n",
       "      <td>0</td>\n",
       "      <td>0</td>\n",
       "      <td>0</td>\n",
       "      <td>0</td>\n",
       "      <td>0</td>\n",
       "    </tr>\n",
       "    <tr>\n",
       "      <th>1</th>\n",
       "      <td>1</td>\n",
       "      <td>460726</td>\n",
       "      <td>2013</td>\n",
       "      <td>1</td>\n",
       "      <td>1</td>\n",
       "      <td>Tuesday</td>\n",
       "      <td>California</td>\n",
       "      <td>Hawthorne</td>\n",
       "      <td>NaN</td>\n",
       "      <td>1</td>\n",
       "      <td>...</td>\n",
       "      <td>0</td>\n",
       "      <td>1</td>\n",
       "      <td>0</td>\n",
       "      <td>0</td>\n",
       "      <td>0</td>\n",
       "      <td>0</td>\n",
       "      <td>0</td>\n",
       "      <td>0</td>\n",
       "      <td>0</td>\n",
       "      <td>0</td>\n",
       "    </tr>\n",
       "    <tr>\n",
       "      <th>2</th>\n",
       "      <td>2</td>\n",
       "      <td>478855</td>\n",
       "      <td>2013</td>\n",
       "      <td>1</td>\n",
       "      <td>1</td>\n",
       "      <td>Tuesday</td>\n",
       "      <td>Ohio</td>\n",
       "      <td>Lorain</td>\n",
       "      <td>2.0</td>\n",
       "      <td>1</td>\n",
       "      <td>...</td>\n",
       "      <td>0</td>\n",
       "      <td>0</td>\n",
       "      <td>3</td>\n",
       "      <td>0</td>\n",
       "      <td>0</td>\n",
       "      <td>0</td>\n",
       "      <td>1</td>\n",
       "      <td>1</td>\n",
       "      <td>0</td>\n",
       "      <td>0</td>\n",
       "    </tr>\n",
       "    <tr>\n",
       "      <th>3</th>\n",
       "      <td>3</td>\n",
       "      <td>478925</td>\n",
       "      <td>2013</td>\n",
       "      <td>1</td>\n",
       "      <td>5</td>\n",
       "      <td>Saturday</td>\n",
       "      <td>Colorado</td>\n",
       "      <td>Aurora</td>\n",
       "      <td>NaN</td>\n",
       "      <td>4</td>\n",
       "      <td>...</td>\n",
       "      <td>0</td>\n",
       "      <td>1</td>\n",
       "      <td>1</td>\n",
       "      <td>1</td>\n",
       "      <td>0</td>\n",
       "      <td>0</td>\n",
       "      <td>0</td>\n",
       "      <td>1</td>\n",
       "      <td>0</td>\n",
       "      <td>0</td>\n",
       "    </tr>\n",
       "    <tr>\n",
       "      <th>4</th>\n",
       "      <td>4</td>\n",
       "      <td>478959</td>\n",
       "      <td>2013</td>\n",
       "      <td>1</td>\n",
       "      <td>7</td>\n",
       "      <td>Monday</td>\n",
       "      <td>North Carolina</td>\n",
       "      <td>Greensboro</td>\n",
       "      <td>2.0</td>\n",
       "      <td>2</td>\n",
       "      <td>...</td>\n",
       "      <td>1</td>\n",
       "      <td>1</td>\n",
       "      <td>0</td>\n",
       "      <td>1</td>\n",
       "      <td>0</td>\n",
       "      <td>0</td>\n",
       "      <td>0</td>\n",
       "      <td>0</td>\n",
       "      <td>1</td>\n",
       "      <td>0</td>\n",
       "    </tr>\n",
       "    <tr>\n",
       "      <th>...</th>\n",
       "      <td>...</td>\n",
       "      <td>...</td>\n",
       "      <td>...</td>\n",
       "      <td>...</td>\n",
       "      <td>...</td>\n",
       "      <td>...</td>\n",
       "      <td>...</td>\n",
       "      <td>...</td>\n",
       "      <td>...</td>\n",
       "      <td>...</td>\n",
       "      <td>...</td>\n",
       "      <td>...</td>\n",
       "      <td>...</td>\n",
       "      <td>...</td>\n",
       "      <td>...</td>\n",
       "      <td>...</td>\n",
       "      <td>...</td>\n",
       "      <td>...</td>\n",
       "      <td>...</td>\n",
       "      <td>...</td>\n",
       "      <td>...</td>\n",
       "    </tr>\n",
       "    <tr>\n",
       "      <th>239672</th>\n",
       "      <td>239672</td>\n",
       "      <td>1083142</td>\n",
       "      <td>2018</td>\n",
       "      <td>3</td>\n",
       "      <td>31</td>\n",
       "      <td>Saturday</td>\n",
       "      <td>Louisiana</td>\n",
       "      <td>Rayne</td>\n",
       "      <td>1.0</td>\n",
       "      <td>0</td>\n",
       "      <td>...</td>\n",
       "      <td>0</td>\n",
       "      <td>0</td>\n",
       "      <td>0</td>\n",
       "      <td>0</td>\n",
       "      <td>0</td>\n",
       "      <td>0</td>\n",
       "      <td>1</td>\n",
       "      <td>0</td>\n",
       "      <td>0</td>\n",
       "      <td>0</td>\n",
       "    </tr>\n",
       "    <tr>\n",
       "      <th>239673</th>\n",
       "      <td>239673</td>\n",
       "      <td>1083139</td>\n",
       "      <td>2018</td>\n",
       "      <td>3</td>\n",
       "      <td>31</td>\n",
       "      <td>Saturday</td>\n",
       "      <td>Louisiana</td>\n",
       "      <td>Natchitoches</td>\n",
       "      <td>1.0</td>\n",
       "      <td>1</td>\n",
       "      <td>...</td>\n",
       "      <td>0</td>\n",
       "      <td>1</td>\n",
       "      <td>0</td>\n",
       "      <td>0</td>\n",
       "      <td>0</td>\n",
       "      <td>0</td>\n",
       "      <td>0</td>\n",
       "      <td>0</td>\n",
       "      <td>0</td>\n",
       "      <td>0</td>\n",
       "    </tr>\n",
       "    <tr>\n",
       "      <th>239674</th>\n",
       "      <td>239674</td>\n",
       "      <td>1083151</td>\n",
       "      <td>2018</td>\n",
       "      <td>3</td>\n",
       "      <td>31</td>\n",
       "      <td>Saturday</td>\n",
       "      <td>Louisiana</td>\n",
       "      <td>Gretna</td>\n",
       "      <td>1.0</td>\n",
       "      <td>0</td>\n",
       "      <td>...</td>\n",
       "      <td>0</td>\n",
       "      <td>1</td>\n",
       "      <td>0</td>\n",
       "      <td>0</td>\n",
       "      <td>0</td>\n",
       "      <td>0</td>\n",
       "      <td>0</td>\n",
       "      <td>0</td>\n",
       "      <td>0</td>\n",
       "      <td>0</td>\n",
       "    </tr>\n",
       "    <tr>\n",
       "      <th>239675</th>\n",
       "      <td>239675</td>\n",
       "      <td>1082514</td>\n",
       "      <td>2018</td>\n",
       "      <td>3</td>\n",
       "      <td>31</td>\n",
       "      <td>Saturday</td>\n",
       "      <td>Texas</td>\n",
       "      <td>Houston</td>\n",
       "      <td>1.0</td>\n",
       "      <td>1</td>\n",
       "      <td>...</td>\n",
       "      <td>0</td>\n",
       "      <td>0</td>\n",
       "      <td>1</td>\n",
       "      <td>0</td>\n",
       "      <td>0</td>\n",
       "      <td>0</td>\n",
       "      <td>0</td>\n",
       "      <td>0</td>\n",
       "      <td>0</td>\n",
       "      <td>0</td>\n",
       "    </tr>\n",
       "    <tr>\n",
       "      <th>239676</th>\n",
       "      <td>239676</td>\n",
       "      <td>1081940</td>\n",
       "      <td>2018</td>\n",
       "      <td>3</td>\n",
       "      <td>31</td>\n",
       "      <td>Saturday</td>\n",
       "      <td>Maine</td>\n",
       "      <td>Norridgewock</td>\n",
       "      <td>2.0</td>\n",
       "      <td>2</td>\n",
       "      <td>...</td>\n",
       "      <td>0</td>\n",
       "      <td>0</td>\n",
       "      <td>0</td>\n",
       "      <td>1</td>\n",
       "      <td>0</td>\n",
       "      <td>0</td>\n",
       "      <td>0</td>\n",
       "      <td>0</td>\n",
       "      <td>0</td>\n",
       "      <td>1</td>\n",
       "    </tr>\n",
       "  </tbody>\n",
       "</table>\n",
       "<p>239677 rows × 27 columns</p>\n",
       "</div>"
      ],
      "text/plain": [
       "        Unnamed: 0  incident_id  year  month  day day_of_week           state  \\\n",
       "0                0       461105  2013      1    1     Tuesday    Pennsylvania   \n",
       "1                1       460726  2013      1    1     Tuesday      California   \n",
       "2                2       478855  2013      1    1     Tuesday            Ohio   \n",
       "3                3       478925  2013      1    5    Saturday        Colorado   \n",
       "4                4       478959  2013      1    7      Monday  North Carolina   \n",
       "...            ...          ...   ...    ...  ...         ...             ...   \n",
       "239672      239672      1083142  2018      3   31    Saturday       Louisiana   \n",
       "239673      239673      1083139  2018      3   31    Saturday       Louisiana   \n",
       "239674      239674      1083151  2018      3   31    Saturday       Louisiana   \n",
       "239675      239675      1082514  2018      3   31    Saturday           Texas   \n",
       "239676      239676      1081940  2018      3   31    Saturday           Maine   \n",
       "\n",
       "       city_or_county  n_guns_involved  n_killed  ...  victim_0-17  \\\n",
       "0          Mckeesport              NaN         0  ...            0   \n",
       "1           Hawthorne              NaN         1  ...            0   \n",
       "2              Lorain              2.0         1  ...            0   \n",
       "3              Aurora              NaN         4  ...            0   \n",
       "4          Greensboro              2.0         2  ...            1   \n",
       "...               ...              ...       ...  ...          ...   \n",
       "239672          Rayne              1.0         0  ...            0   \n",
       "239673   Natchitoches              1.0         1  ...            0   \n",
       "239674         Gretna              1.0         0  ...            0   \n",
       "239675        Houston              1.0         1  ...            0   \n",
       "239676   Norridgewock              2.0         2  ...            0   \n",
       "\n",
       "        victim_18-30  victim_31-45  victim_46-60  victim_61+  suspect_0-17  \\\n",
       "0                  1             0             0           0             0   \n",
       "1                  1             0             0           0             0   \n",
       "2                  0             3             0           0             0   \n",
       "3                  1             1             1           0             0   \n",
       "4                  1             0             1           0             0   \n",
       "...              ...           ...           ...         ...           ...   \n",
       "239672             0             0             0           0             0   \n",
       "239673             1             0             0           0             0   \n",
       "239674             1             0             0           0             0   \n",
       "239675             0             1             0           0             0   \n",
       "239676             0             0             1           0             0   \n",
       "\n",
       "        suspect_18-30  suspect_31-45  suspect_46-60  suspect_61+  \n",
       "0                   0              0              0            0  \n",
       "1                   0              0              0            0  \n",
       "2                   1              1              0            0  \n",
       "3                   0              1              0            0  \n",
       "4                   0              0              1            0  \n",
       "...               ...            ...            ...          ...  \n",
       "239672              1              0              0            0  \n",
       "239673              0              0              0            0  \n",
       "239674              0              0              0            0  \n",
       "239675              0              0              0            0  \n",
       "239676              0              0              0            1  \n",
       "\n",
       "[239677 rows x 27 columns]"
      ]
     },
     "execution_count": 4,
     "metadata": {},
     "output_type": "execute_result"
    }
   ],
   "source": [
    "# Check data set\n",
    "gun_violence_df"
   ]
  },
  {
   "cell_type": "code",
   "execution_count": 5,
   "id": "16e0e778",
   "metadata": {},
   "outputs": [
    {
     "data": {
      "text/html": [
       "<div>\n",
       "<style scoped>\n",
       "    .dataframe tbody tr th:only-of-type {\n",
       "        vertical-align: middle;\n",
       "    }\n",
       "\n",
       "    .dataframe tbody tr th {\n",
       "        vertical-align: top;\n",
       "    }\n",
       "\n",
       "    .dataframe thead th {\n",
       "        text-align: right;\n",
       "    }\n",
       "</style>\n",
       "<table border=\"1\" class=\"dataframe\">\n",
       "  <thead>\n",
       "    <tr style=\"text-align: right;\">\n",
       "      <th></th>\n",
       "      <th>Unnamed: 0</th>\n",
       "      <th>incident_id</th>\n",
       "      <th>year</th>\n",
       "      <th>month</th>\n",
       "      <th>day</th>\n",
       "      <th>day_of_week</th>\n",
       "      <th>state</th>\n",
       "      <th>city_or_county</th>\n",
       "      <th>n_guns_involved</th>\n",
       "      <th>n_killed</th>\n",
       "      <th>...</th>\n",
       "      <th>victim_0-17</th>\n",
       "      <th>victim_18-30</th>\n",
       "      <th>victim_31-45</th>\n",
       "      <th>victim_46-60</th>\n",
       "      <th>victim_61+</th>\n",
       "      <th>suspect_0-17</th>\n",
       "      <th>suspect_18-30</th>\n",
       "      <th>suspect_31-45</th>\n",
       "      <th>suspect_46-60</th>\n",
       "      <th>suspect_61+</th>\n",
       "    </tr>\n",
       "  </thead>\n",
       "  <tbody>\n",
       "    <tr>\n",
       "      <th>239672</th>\n",
       "      <td>239672</td>\n",
       "      <td>1083142</td>\n",
       "      <td>2018</td>\n",
       "      <td>3</td>\n",
       "      <td>31</td>\n",
       "      <td>Saturday</td>\n",
       "      <td>Louisiana</td>\n",
       "      <td>Rayne</td>\n",
       "      <td>1.0</td>\n",
       "      <td>0</td>\n",
       "      <td>...</td>\n",
       "      <td>0</td>\n",
       "      <td>0</td>\n",
       "      <td>0</td>\n",
       "      <td>0</td>\n",
       "      <td>0</td>\n",
       "      <td>0</td>\n",
       "      <td>1</td>\n",
       "      <td>0</td>\n",
       "      <td>0</td>\n",
       "      <td>0</td>\n",
       "    </tr>\n",
       "    <tr>\n",
       "      <th>239673</th>\n",
       "      <td>239673</td>\n",
       "      <td>1083139</td>\n",
       "      <td>2018</td>\n",
       "      <td>3</td>\n",
       "      <td>31</td>\n",
       "      <td>Saturday</td>\n",
       "      <td>Louisiana</td>\n",
       "      <td>Natchitoches</td>\n",
       "      <td>1.0</td>\n",
       "      <td>1</td>\n",
       "      <td>...</td>\n",
       "      <td>0</td>\n",
       "      <td>1</td>\n",
       "      <td>0</td>\n",
       "      <td>0</td>\n",
       "      <td>0</td>\n",
       "      <td>0</td>\n",
       "      <td>0</td>\n",
       "      <td>0</td>\n",
       "      <td>0</td>\n",
       "      <td>0</td>\n",
       "    </tr>\n",
       "    <tr>\n",
       "      <th>239674</th>\n",
       "      <td>239674</td>\n",
       "      <td>1083151</td>\n",
       "      <td>2018</td>\n",
       "      <td>3</td>\n",
       "      <td>31</td>\n",
       "      <td>Saturday</td>\n",
       "      <td>Louisiana</td>\n",
       "      <td>Gretna</td>\n",
       "      <td>1.0</td>\n",
       "      <td>0</td>\n",
       "      <td>...</td>\n",
       "      <td>0</td>\n",
       "      <td>1</td>\n",
       "      <td>0</td>\n",
       "      <td>0</td>\n",
       "      <td>0</td>\n",
       "      <td>0</td>\n",
       "      <td>0</td>\n",
       "      <td>0</td>\n",
       "      <td>0</td>\n",
       "      <td>0</td>\n",
       "    </tr>\n",
       "    <tr>\n",
       "      <th>239675</th>\n",
       "      <td>239675</td>\n",
       "      <td>1082514</td>\n",
       "      <td>2018</td>\n",
       "      <td>3</td>\n",
       "      <td>31</td>\n",
       "      <td>Saturday</td>\n",
       "      <td>Texas</td>\n",
       "      <td>Houston</td>\n",
       "      <td>1.0</td>\n",
       "      <td>1</td>\n",
       "      <td>...</td>\n",
       "      <td>0</td>\n",
       "      <td>0</td>\n",
       "      <td>1</td>\n",
       "      <td>0</td>\n",
       "      <td>0</td>\n",
       "      <td>0</td>\n",
       "      <td>0</td>\n",
       "      <td>0</td>\n",
       "      <td>0</td>\n",
       "      <td>0</td>\n",
       "    </tr>\n",
       "    <tr>\n",
       "      <th>239676</th>\n",
       "      <td>239676</td>\n",
       "      <td>1081940</td>\n",
       "      <td>2018</td>\n",
       "      <td>3</td>\n",
       "      <td>31</td>\n",
       "      <td>Saturday</td>\n",
       "      <td>Maine</td>\n",
       "      <td>Norridgewock</td>\n",
       "      <td>2.0</td>\n",
       "      <td>2</td>\n",
       "      <td>...</td>\n",
       "      <td>0</td>\n",
       "      <td>0</td>\n",
       "      <td>0</td>\n",
       "      <td>1</td>\n",
       "      <td>0</td>\n",
       "      <td>0</td>\n",
       "      <td>0</td>\n",
       "      <td>0</td>\n",
       "      <td>0</td>\n",
       "      <td>1</td>\n",
       "    </tr>\n",
       "  </tbody>\n",
       "</table>\n",
       "<p>5 rows × 27 columns</p>\n",
       "</div>"
      ],
      "text/plain": [
       "        Unnamed: 0  incident_id  year  month  day day_of_week      state  \\\n",
       "239672      239672      1083142  2018      3   31    Saturday  Louisiana   \n",
       "239673      239673      1083139  2018      3   31    Saturday  Louisiana   \n",
       "239674      239674      1083151  2018      3   31    Saturday  Louisiana   \n",
       "239675      239675      1082514  2018      3   31    Saturday      Texas   \n",
       "239676      239676      1081940  2018      3   31    Saturday      Maine   \n",
       "\n",
       "       city_or_county  n_guns_involved  n_killed  ...  victim_0-17  \\\n",
       "239672          Rayne              1.0         0  ...            0   \n",
       "239673   Natchitoches              1.0         1  ...            0   \n",
       "239674         Gretna              1.0         0  ...            0   \n",
       "239675        Houston              1.0         1  ...            0   \n",
       "239676   Norridgewock              2.0         2  ...            0   \n",
       "\n",
       "        victim_18-30  victim_31-45  victim_46-60  victim_61+  suspect_0-17  \\\n",
       "239672             0             0             0           0             0   \n",
       "239673             1             0             0           0             0   \n",
       "239674             1             0             0           0             0   \n",
       "239675             0             1             0           0             0   \n",
       "239676             0             0             1           0             0   \n",
       "\n",
       "        suspect_18-30  suspect_31-45  suspect_46-60  suspect_61+  \n",
       "239672              1              0              0            0  \n",
       "239673              0              0              0            0  \n",
       "239674              0              0              0            0  \n",
       "239675              0              0              0            0  \n",
       "239676              0              0              0            1  \n",
       "\n",
       "[5 rows x 27 columns]"
      ]
     },
     "execution_count": 5,
     "metadata": {},
     "output_type": "execute_result"
    }
   ],
   "source": [
    "gun_violence_df.tail()"
   ]
  },
  {
   "cell_type": "code",
   "execution_count": 6,
   "id": "2d335bc9",
   "metadata": {},
   "outputs": [
    {
     "data": {
      "text/plain": [
       "Index(['Unnamed: 0', 'incident_id', 'year', 'month', 'day', 'day_of_week',\n",
       "       'state', 'city_or_county', 'n_guns_involved', 'n_killed', 'n_injured',\n",
       "       'victim_count', 'suspect_count', 'male_victims_count',\n",
       "       'female_victims_count', 'male_suspects_count', 'female_suspects_count',\n",
       "       'victim_0-17', 'victim_18-30', 'victim_31-45', 'victim_46-60',\n",
       "       'victim_61+', 'suspect_0-17', 'suspect_18-30', 'suspect_31-45',\n",
       "       'suspect_46-60', 'suspect_61+'],\n",
       "      dtype='object')"
      ]
     },
     "execution_count": 6,
     "metadata": {},
     "output_type": "execute_result"
    }
   ],
   "source": [
    "# Check columns names\n",
    "\n",
    "gun_violence_df.columns"
   ]
  },
  {
   "cell_type": "code",
   "execution_count": 8,
   "id": "6e58fca1",
   "metadata": {},
   "outputs": [
    {
     "name": "stdout",
     "output_type": "stream",
     "text": [
      "<class 'pandas.core.frame.DataFrame'>\n",
      "RangeIndex: 239677 entries, 0 to 239676\n",
      "Data columns (total 27 columns):\n",
      " #   Column                 Non-Null Count   Dtype  \n",
      "---  ------                 --------------   -----  \n",
      " 0   Unnamed: 0             239677 non-null  int64  \n",
      " 1   incident_id            239677 non-null  int64  \n",
      " 2   year                   239677 non-null  int64  \n",
      " 3   month                  239677 non-null  int64  \n",
      " 4   day                    239677 non-null  int64  \n",
      " 5   day_of_week            239677 non-null  object \n",
      " 6   state                  239677 non-null  object \n",
      " 7   city_or_county         239677 non-null  object \n",
      " 8   n_guns_involved        140226 non-null  float64\n",
      " 9   n_killed               239677 non-null  int64  \n",
      " 10  n_injured              239677 non-null  int64  \n",
      " 11  victim_count           239677 non-null  int64  \n",
      " 12  suspect_count          239677 non-null  int64  \n",
      " 13  male_victims_count     239677 non-null  int64  \n",
      " 14  female_victims_count   239677 non-null  int64  \n",
      " 15  male_suspects_count    239677 non-null  int64  \n",
      " 16  female_suspects_count  239677 non-null  int64  \n",
      " 17  victim_0-17            239677 non-null  int64  \n",
      " 18  victim_18-30           239677 non-null  int64  \n",
      " 19  victim_31-45           239677 non-null  int64  \n",
      " 20  victim_46-60           239677 non-null  int64  \n",
      " 21  victim_61+             239677 non-null  int64  \n",
      " 22  suspect_0-17           239677 non-null  int64  \n",
      " 23  suspect_18-30          239677 non-null  int64  \n",
      " 24  suspect_31-45          239677 non-null  int64  \n",
      " 25  suspect_46-60          239677 non-null  int64  \n",
      " 26  suspect_61+            239677 non-null  int64  \n",
      "dtypes: float64(1), int64(23), object(3)\n",
      "memory usage: 49.4+ MB\n"
     ]
    }
   ],
   "source": [
    "gun_violence_df.info()"
   ]
  },
  {
   "cell_type": "code",
   "execution_count": 10,
   "id": "a49e8808",
   "metadata": {},
   "outputs": [
    {
     "data": {
      "text/plain": [
       "(239677, 27)"
      ]
     },
     "execution_count": 10,
     "metadata": {},
     "output_type": "execute_result"
    }
   ],
   "source": [
    "# Check shape\n",
    "gun_violence_df.shape"
   ]
  },
  {
   "cell_type": "code",
   "execution_count": 11,
   "id": "38e5243f",
   "metadata": {},
   "outputs": [
    {
     "data": {
      "text/plain": [
       "0         False\n",
       "1         False\n",
       "2         False\n",
       "3         False\n",
       "4         False\n",
       "          ...  \n",
       "239672    False\n",
       "239673    False\n",
       "239674    False\n",
       "239675    False\n",
       "239676    False\n",
       "Length: 239677, dtype: bool"
      ]
     },
     "execution_count": 11,
     "metadata": {},
     "output_type": "execute_result"
    }
   ],
   "source": [
    "#Checked for duplicates\n",
    "gun_violence_df.duplicated()"
   ]
  },
  {
   "cell_type": "code",
   "execution_count": 12,
   "id": "29653d65",
   "metadata": {
    "scrolled": false
   },
   "outputs": [
    {
     "data": {
      "text/plain": [
       "Unnamed: 0                   0\n",
       "incident_id                  0\n",
       "year                         0\n",
       "month                        0\n",
       "day                          0\n",
       "day_of_week                  0\n",
       "state                        0\n",
       "city_or_county               0\n",
       "n_guns_involved          99451\n",
       "n_killed                     0\n",
       "n_injured                    0\n",
       "victim_count                 0\n",
       "suspect_count                0\n",
       "male_victims_count           0\n",
       "female_victims_count         0\n",
       "male_suspects_count          0\n",
       "female_suspects_count        0\n",
       "victim_0-17                  0\n",
       "victim_18-30                 0\n",
       "victim_31-45                 0\n",
       "victim_46-60                 0\n",
       "victim_61+                   0\n",
       "suspect_0-17                 0\n",
       "suspect_18-30                0\n",
       "suspect_31-45                0\n",
       "suspect_46-60                0\n",
       "suspect_61+                  0\n",
       "dtype: int64"
      ]
     },
     "execution_count": 12,
     "metadata": {},
     "output_type": "execute_result"
    }
   ],
   "source": [
    "#Checked for missing values \n",
    "gun_violence_df.isnull().sum()"
   ]
  },
  {
   "cell_type": "code",
   "execution_count": 13,
   "id": "31c429e9",
   "metadata": {},
   "outputs": [],
   "source": [
    "#Deleted unnecessary columns\n",
    "gun_violence_df = gun_violence_df.drop(columns=['Unnamed: 0'])"
   ]
  },
  {
   "cell_type": "markdown",
   "id": "2613c6f8",
   "metadata": {},
   "source": [
    "The 'n_guns_involved' column contains a significant number of missing values (99,451 entries). For this case, i will fill these missing values with the median value of the 'n_guns_involved' column. "
   ]
  },
  {
   "cell_type": "code",
   "execution_count": 53,
   "id": "3fa40e75",
   "metadata": {},
   "outputs": [],
   "source": [
    "# Checking for missing values and data types in the relevant columns\n",
    "relevant_columns = ['year', 'n_guns_involved', 'n_killed', 'victim_0-17', 'victim_18-30', 'suspect_18-30']\n",
    "data_selected = gun_violence_df[relevant_columns]"
   ]
  },
  {
   "cell_type": "code",
   "execution_count": 54,
   "id": "5bfcfd8e",
   "metadata": {},
   "outputs": [
    {
     "name": "stderr",
     "output_type": "stream",
     "text": [
      "C:\\Users\\facun\\AppData\\Local\\Temp\\ipykernel_22304\\3829805920.py:3: SettingWithCopyWarning: \n",
      "A value is trying to be set on a copy of a slice from a DataFrame\n",
      "\n",
      "See the caveats in the documentation: https://pandas.pydata.org/pandas-docs/stable/user_guide/indexing.html#returning-a-view-versus-a-copy\n",
      "  data_selected['n_guns_involved'].fillna(median_guns_involved, inplace=True)\n"
     ]
    },
    {
     "data": {
      "text/plain": [
       "year               0\n",
       "n_guns_involved    0\n",
       "n_killed           0\n",
       "victim_0-17        0\n",
       "victim_18-30       0\n",
       "suspect_18-30      0\n",
       "dtype: int64"
      ]
     },
     "execution_count": 54,
     "metadata": {},
     "output_type": "execute_result"
    }
   ],
   "source": [
    "# Filling missing values in 'n_guns_involved' with the median value\n",
    "median_guns_involved = data_selected['n_guns_involved'].median()\n",
    "data_selected['n_guns_involved'].fillna(median_guns_involved, inplace=True)\n",
    "\n",
    "# Confirming that there are no more missing values\n",
    "missing_values_updated = data_selected.isnull().sum()\n",
    "\n",
    "missing_values_updated\n"
   ]
  },
  {
   "cell_type": "markdown",
   "id": "38f840f6",
   "metadata": {},
   "source": [
    "## Task 4 - Explore your data visually (e.g., by way of a scatterplot), looking for variables whose relationship you’d like to test."
   ]
  },
  {
   "cell_type": "markdown",
   "id": "24b77101",
   "metadata": {},
   "source": [
    "#### Look for outliers extreme values"
   ]
  },
  {
   "cell_type": "code",
   "execution_count": 16,
   "id": "41bbfbd9",
   "metadata": {},
   "outputs": [],
   "source": [
    "incidents_per_state = gun_violence_df.groupby('state')['incident_id'].nunique().reset_index(name='incident_count')"
   ]
  },
  {
   "cell_type": "code",
   "execution_count": 22,
   "id": "e876d382",
   "metadata": {
    "scrolled": false
   },
   "outputs": [
    {
     "data": {
      "text/html": [
       "<div>\n",
       "<style scoped>\n",
       "    .dataframe tbody tr th:only-of-type {\n",
       "        vertical-align: middle;\n",
       "    }\n",
       "\n",
       "    .dataframe tbody tr th {\n",
       "        vertical-align: top;\n",
       "    }\n",
       "\n",
       "    .dataframe thead th {\n",
       "        text-align: right;\n",
       "    }\n",
       "</style>\n",
       "<table border=\"1\" class=\"dataframe\">\n",
       "  <thead>\n",
       "    <tr style=\"text-align: right;\">\n",
       "      <th></th>\n",
       "      <th>state</th>\n",
       "      <th>incident_count</th>\n",
       "    </tr>\n",
       "  </thead>\n",
       "  <tbody>\n",
       "    <tr>\n",
       "      <th>0</th>\n",
       "      <td>Alabama</td>\n",
       "      <td>5471</td>\n",
       "    </tr>\n",
       "    <tr>\n",
       "      <th>1</th>\n",
       "      <td>Alaska</td>\n",
       "      <td>1349</td>\n",
       "    </tr>\n",
       "    <tr>\n",
       "      <th>2</th>\n",
       "      <td>Arizona</td>\n",
       "      <td>2328</td>\n",
       "    </tr>\n",
       "    <tr>\n",
       "      <th>3</th>\n",
       "      <td>Arkansas</td>\n",
       "      <td>2842</td>\n",
       "    </tr>\n",
       "    <tr>\n",
       "      <th>4</th>\n",
       "      <td>California</td>\n",
       "      <td>16306</td>\n",
       "    </tr>\n",
       "    <tr>\n",
       "      <th>5</th>\n",
       "      <td>Colorado</td>\n",
       "      <td>3201</td>\n",
       "    </tr>\n",
       "    <tr>\n",
       "      <th>6</th>\n",
       "      <td>Connecticut</td>\n",
       "      <td>3067</td>\n",
       "    </tr>\n",
       "    <tr>\n",
       "      <th>7</th>\n",
       "      <td>Delaware</td>\n",
       "      <td>1685</td>\n",
       "    </tr>\n",
       "    <tr>\n",
       "      <th>8</th>\n",
       "      <td>District of Columbia</td>\n",
       "      <td>3195</td>\n",
       "    </tr>\n",
       "    <tr>\n",
       "      <th>9</th>\n",
       "      <td>Florida</td>\n",
       "      <td>15029</td>\n",
       "    </tr>\n",
       "    <tr>\n",
       "      <th>10</th>\n",
       "      <td>Georgia</td>\n",
       "      <td>8925</td>\n",
       "    </tr>\n",
       "    <tr>\n",
       "      <th>11</th>\n",
       "      <td>Hawaii</td>\n",
       "      <td>289</td>\n",
       "    </tr>\n",
       "    <tr>\n",
       "      <th>12</th>\n",
       "      <td>Idaho</td>\n",
       "      <td>661</td>\n",
       "    </tr>\n",
       "    <tr>\n",
       "      <th>13</th>\n",
       "      <td>Illinois</td>\n",
       "      <td>17556</td>\n",
       "    </tr>\n",
       "    <tr>\n",
       "      <th>14</th>\n",
       "      <td>Indiana</td>\n",
       "      <td>5852</td>\n",
       "    </tr>\n",
       "    <tr>\n",
       "      <th>15</th>\n",
       "      <td>Iowa</td>\n",
       "      <td>2517</td>\n",
       "    </tr>\n",
       "    <tr>\n",
       "      <th>16</th>\n",
       "      <td>Kansas</td>\n",
       "      <td>2145</td>\n",
       "    </tr>\n",
       "    <tr>\n",
       "      <th>17</th>\n",
       "      <td>Kentucky</td>\n",
       "      <td>4157</td>\n",
       "    </tr>\n",
       "    <tr>\n",
       "      <th>18</th>\n",
       "      <td>Louisiana</td>\n",
       "      <td>8103</td>\n",
       "    </tr>\n",
       "    <tr>\n",
       "      <th>19</th>\n",
       "      <td>Maine</td>\n",
       "      <td>907</td>\n",
       "    </tr>\n",
       "    <tr>\n",
       "      <th>20</th>\n",
       "      <td>Maryland</td>\n",
       "      <td>5798</td>\n",
       "    </tr>\n",
       "    <tr>\n",
       "      <th>21</th>\n",
       "      <td>Massachusetts</td>\n",
       "      <td>5981</td>\n",
       "    </tr>\n",
       "    <tr>\n",
       "      <th>22</th>\n",
       "      <td>Michigan</td>\n",
       "      <td>6136</td>\n",
       "    </tr>\n",
       "    <tr>\n",
       "      <th>23</th>\n",
       "      <td>Minnesota</td>\n",
       "      <td>2408</td>\n",
       "    </tr>\n",
       "    <tr>\n",
       "      <th>24</th>\n",
       "      <td>Mississippi</td>\n",
       "      <td>3599</td>\n",
       "    </tr>\n",
       "    <tr>\n",
       "      <th>25</th>\n",
       "      <td>Missouri</td>\n",
       "      <td>6631</td>\n",
       "    </tr>\n",
       "    <tr>\n",
       "      <th>26</th>\n",
       "      <td>Montana</td>\n",
       "      <td>638</td>\n",
       "    </tr>\n",
       "    <tr>\n",
       "      <th>27</th>\n",
       "      <td>Nebraska</td>\n",
       "      <td>1651</td>\n",
       "    </tr>\n",
       "    <tr>\n",
       "      <th>28</th>\n",
       "      <td>Nevada</td>\n",
       "      <td>1952</td>\n",
       "    </tr>\n",
       "    <tr>\n",
       "      <th>29</th>\n",
       "      <td>New Hampshire</td>\n",
       "      <td>964</td>\n",
       "    </tr>\n",
       "    <tr>\n",
       "      <th>30</th>\n",
       "      <td>New Jersey</td>\n",
       "      <td>5387</td>\n",
       "    </tr>\n",
       "    <tr>\n",
       "      <th>31</th>\n",
       "      <td>New Mexico</td>\n",
       "      <td>1645</td>\n",
       "    </tr>\n",
       "    <tr>\n",
       "      <th>32</th>\n",
       "      <td>New York</td>\n",
       "      <td>9712</td>\n",
       "    </tr>\n",
       "    <tr>\n",
       "      <th>33</th>\n",
       "      <td>North Carolina</td>\n",
       "      <td>8739</td>\n",
       "    </tr>\n",
       "    <tr>\n",
       "      <th>34</th>\n",
       "      <td>North Dakota</td>\n",
       "      <td>573</td>\n",
       "    </tr>\n",
       "    <tr>\n",
       "      <th>35</th>\n",
       "      <td>Ohio</td>\n",
       "      <td>10244</td>\n",
       "    </tr>\n",
       "    <tr>\n",
       "      <th>36</th>\n",
       "      <td>Oklahoma</td>\n",
       "      <td>3455</td>\n",
       "    </tr>\n",
       "    <tr>\n",
       "      <th>37</th>\n",
       "      <td>Oregon</td>\n",
       "      <td>2286</td>\n",
       "    </tr>\n",
       "    <tr>\n",
       "      <th>38</th>\n",
       "      <td>Pennsylvania</td>\n",
       "      <td>8929</td>\n",
       "    </tr>\n",
       "    <tr>\n",
       "      <th>39</th>\n",
       "      <td>Rhode Island</td>\n",
       "      <td>895</td>\n",
       "    </tr>\n",
       "    <tr>\n",
       "      <th>40</th>\n",
       "      <td>South Carolina</td>\n",
       "      <td>6939</td>\n",
       "    </tr>\n",
       "    <tr>\n",
       "      <th>41</th>\n",
       "      <td>South Dakota</td>\n",
       "      <td>544</td>\n",
       "    </tr>\n",
       "    <tr>\n",
       "      <th>42</th>\n",
       "      <td>Tennessee</td>\n",
       "      <td>7626</td>\n",
       "    </tr>\n",
       "    <tr>\n",
       "      <th>43</th>\n",
       "      <td>Texas</td>\n",
       "      <td>13577</td>\n",
       "    </tr>\n",
       "    <tr>\n",
       "      <th>44</th>\n",
       "      <td>Utah</td>\n",
       "      <td>1072</td>\n",
       "    </tr>\n",
       "    <tr>\n",
       "      <th>45</th>\n",
       "      <td>Vermont</td>\n",
       "      <td>472</td>\n",
       "    </tr>\n",
       "    <tr>\n",
       "      <th>46</th>\n",
       "      <td>Virginia</td>\n",
       "      <td>5949</td>\n",
       "    </tr>\n",
       "    <tr>\n",
       "      <th>47</th>\n",
       "      <td>Washington</td>\n",
       "      <td>3434</td>\n",
       "    </tr>\n",
       "    <tr>\n",
       "      <th>48</th>\n",
       "      <td>West Virginia</td>\n",
       "      <td>1575</td>\n",
       "    </tr>\n",
       "    <tr>\n",
       "      <th>49</th>\n",
       "      <td>Wisconsin</td>\n",
       "      <td>4787</td>\n",
       "    </tr>\n",
       "    <tr>\n",
       "      <th>50</th>\n",
       "      <td>Wyoming</td>\n",
       "      <td>494</td>\n",
       "    </tr>\n",
       "  </tbody>\n",
       "</table>\n",
       "</div>"
      ],
      "text/plain": [
       "                   state  incident_count\n",
       "0                Alabama            5471\n",
       "1                 Alaska            1349\n",
       "2                Arizona            2328\n",
       "3               Arkansas            2842\n",
       "4             California           16306\n",
       "5               Colorado            3201\n",
       "6            Connecticut            3067\n",
       "7               Delaware            1685\n",
       "8   District of Columbia            3195\n",
       "9                Florida           15029\n",
       "10               Georgia            8925\n",
       "11                Hawaii             289\n",
       "12                 Idaho             661\n",
       "13              Illinois           17556\n",
       "14               Indiana            5852\n",
       "15                  Iowa            2517\n",
       "16                Kansas            2145\n",
       "17              Kentucky            4157\n",
       "18             Louisiana            8103\n",
       "19                 Maine             907\n",
       "20              Maryland            5798\n",
       "21         Massachusetts            5981\n",
       "22              Michigan            6136\n",
       "23             Minnesota            2408\n",
       "24           Mississippi            3599\n",
       "25              Missouri            6631\n",
       "26               Montana             638\n",
       "27              Nebraska            1651\n",
       "28                Nevada            1952\n",
       "29         New Hampshire             964\n",
       "30            New Jersey            5387\n",
       "31            New Mexico            1645\n",
       "32              New York            9712\n",
       "33        North Carolina            8739\n",
       "34          North Dakota             573\n",
       "35                  Ohio           10244\n",
       "36              Oklahoma            3455\n",
       "37                Oregon            2286\n",
       "38          Pennsylvania            8929\n",
       "39          Rhode Island             895\n",
       "40        South Carolina            6939\n",
       "41          South Dakota             544\n",
       "42             Tennessee            7626\n",
       "43                 Texas           13577\n",
       "44                  Utah            1072\n",
       "45               Vermont             472\n",
       "46              Virginia            5949\n",
       "47            Washington            3434\n",
       "48         West Virginia            1575\n",
       "49             Wisconsin            4787\n",
       "50               Wyoming             494"
      ]
     },
     "execution_count": 22,
     "metadata": {},
     "output_type": "execute_result"
    }
   ],
   "source": [
    "incidents_per_state"
   ]
  },
  {
   "cell_type": "code",
   "execution_count": 24,
   "id": "016c06f9",
   "metadata": {
    "scrolled": false
   },
   "outputs": [
    {
     "data": {
      "image/png": "[encoded data removed]",
      "text/plain": [
       "<Figure size 640x480 with 1 Axes>"
      ]
     },
     "metadata": {},
     "output_type": "display_data"
    }
   ],
   "source": [
    "#Created a histogram for extreme values for Incidents per State\n",
    "hist_incidents_per_state = sns.histplot(incidents_per_state['incident_count'], bins = 20, kde = True)"
   ]
  },
  {
   "cell_type": "code",
   "execution_count": 28,
   "id": "4aa9dbee",
   "metadata": {},
   "outputs": [],
   "source": [
    "incidents_per_month = gun_violence_df.groupby('month')['incident_id'].nunique().reset_index(name='incident_count')"
   ]
  },
  {
   "cell_type": "code",
   "execution_count": 30,
   "id": "cbfcf83d",
   "metadata": {},
   "outputs": [
    {
     "data": {
      "text/html": [
       "<div>\n",
       "<style scoped>\n",
       "    .dataframe tbody tr th:only-of-type {\n",
       "        vertical-align: middle;\n",
       "    }\n",
       "\n",
       "    .dataframe tbody tr th {\n",
       "        vertical-align: top;\n",
       "    }\n",
       "\n",
       "    .dataframe thead th {\n",
       "        text-align: right;\n",
       "    }\n",
       "</style>\n",
       "<table border=\"1\" class=\"dataframe\">\n",
       "  <thead>\n",
       "    <tr style=\"text-align: right;\">\n",
       "      <th></th>\n",
       "      <th>month</th>\n",
       "      <th>incident_count</th>\n",
       "    </tr>\n",
       "  </thead>\n",
       "  <tbody>\n",
       "    <tr>\n",
       "      <th>0</th>\n",
       "      <td>1</td>\n",
       "      <td>23091</td>\n",
       "    </tr>\n",
       "    <tr>\n",
       "      <th>1</th>\n",
       "      <td>2</td>\n",
       "      <td>18841</td>\n",
       "    </tr>\n",
       "    <tr>\n",
       "      <th>2</th>\n",
       "      <td>3</td>\n",
       "      <td>22640</td>\n",
       "    </tr>\n",
       "    <tr>\n",
       "      <th>3</th>\n",
       "      <td>4</td>\n",
       "      <td>18628</td>\n",
       "    </tr>\n",
       "    <tr>\n",
       "      <th>4</th>\n",
       "      <td>5</td>\n",
       "      <td>19930</td>\n",
       "    </tr>\n",
       "    <tr>\n",
       "      <th>5</th>\n",
       "      <td>6</td>\n",
       "      <td>18755</td>\n",
       "    </tr>\n",
       "    <tr>\n",
       "      <th>6</th>\n",
       "      <td>7</td>\n",
       "      <td>21126</td>\n",
       "    </tr>\n",
       "    <tr>\n",
       "      <th>7</th>\n",
       "      <td>8</td>\n",
       "      <td>21040</td>\n",
       "    </tr>\n",
       "    <tr>\n",
       "      <th>8</th>\n",
       "      <td>9</td>\n",
       "      <td>19656</td>\n",
       "    </tr>\n",
       "    <tr>\n",
       "      <th>9</th>\n",
       "      <td>10</td>\n",
       "      <td>19890</td>\n",
       "    </tr>\n",
       "    <tr>\n",
       "      <th>10</th>\n",
       "      <td>11</td>\n",
       "      <td>17974</td>\n",
       "    </tr>\n",
       "    <tr>\n",
       "      <th>11</th>\n",
       "      <td>12</td>\n",
       "      <td>18106</td>\n",
       "    </tr>\n",
       "  </tbody>\n",
       "</table>\n",
       "</div>"
      ],
      "text/plain": [
       "    month  incident_count\n",
       "0       1           23091\n",
       "1       2           18841\n",
       "2       3           22640\n",
       "3       4           18628\n",
       "4       5           19930\n",
       "5       6           18755\n",
       "6       7           21126\n",
       "7       8           21040\n",
       "8       9           19656\n",
       "9      10           19890\n",
       "10     11           17974\n",
       "11     12           18106"
      ]
     },
     "execution_count": 30,
     "metadata": {},
     "output_type": "execute_result"
    }
   ],
   "source": [
    "incidents_per_month"
   ]
  },
  {
   "cell_type": "code",
   "execution_count": 29,
   "id": "8278cc7a",
   "metadata": {},
   "outputs": [
    {
     "data": {
      "image/png": "[encoded data removed]",
      "text/plain": [
       "<Figure size 640x480 with 1 Axes>"
      ]
     },
     "metadata": {},
     "output_type": "display_data"
    }
   ],
   "source": [
    "#Created a histogram for extreme values for Incidents per month\n",
    "hist_incidents_per_month = sns.histplot(incidents_per_month['incident_count'], bins = 20, kde = True)"
   ]
  },
  {
   "cell_type": "code",
   "execution_count": 42,
   "id": "faa572dd",
   "metadata": {},
   "outputs": [],
   "source": [
    "incidents_per_year = gun_violence_df.groupby('year')['incident_id'].nunique().reset_index(name='incident_count')"
   ]
  },
  {
   "cell_type": "code",
   "execution_count": 45,
   "id": "fffe1bf9",
   "metadata": {
    "scrolled": false
   },
   "outputs": [
    {
     "data": {
      "image/png": "[encoded data removed]",
      "text/plain": [
       "<Figure size 640x480 with 1 Axes>"
      ]
     },
     "metadata": {},
     "output_type": "display_data"
    }
   ],
   "source": [
    "#Created a histogram for extreme values for Incidents per year\n",
    "hist_incidents_per_year = sns.histplot(incidents_per_year['incident_count'], bins = 20, kde = True)"
   ]
  },
  {
   "cell_type": "code",
   "execution_count": 46,
   "id": "5d8fa2ea",
   "metadata": {},
   "outputs": [
    {
     "data": {
      "text/html": [
       "<div>\n",
       "<style scoped>\n",
       "    .dataframe tbody tr th:only-of-type {\n",
       "        vertical-align: middle;\n",
       "    }\n",
       "\n",
       "    .dataframe tbody tr th {\n",
       "        vertical-align: top;\n",
       "    }\n",
       "\n",
       "    .dataframe thead th {\n",
       "        text-align: right;\n",
       "    }\n",
       "</style>\n",
       "<table border=\"1\" class=\"dataframe\">\n",
       "  <thead>\n",
       "    <tr style=\"text-align: right;\">\n",
       "      <th></th>\n",
       "      <th>year</th>\n",
       "      <th>incident_count</th>\n",
       "    </tr>\n",
       "  </thead>\n",
       "  <tbody>\n",
       "    <tr>\n",
       "      <th>0</th>\n",
       "      <td>2013</td>\n",
       "      <td>278</td>\n",
       "    </tr>\n",
       "    <tr>\n",
       "      <th>1</th>\n",
       "      <td>2014</td>\n",
       "      <td>51854</td>\n",
       "    </tr>\n",
       "    <tr>\n",
       "      <th>2</th>\n",
       "      <td>2015</td>\n",
       "      <td>53579</td>\n",
       "    </tr>\n",
       "    <tr>\n",
       "      <th>3</th>\n",
       "      <td>2016</td>\n",
       "      <td>58763</td>\n",
       "    </tr>\n",
       "    <tr>\n",
       "      <th>4</th>\n",
       "      <td>2017</td>\n",
       "      <td>61401</td>\n",
       "    </tr>\n",
       "    <tr>\n",
       "      <th>5</th>\n",
       "      <td>2018</td>\n",
       "      <td>13802</td>\n",
       "    </tr>\n",
       "  </tbody>\n",
       "</table>\n",
       "</div>"
      ],
      "text/plain": [
       "   year  incident_count\n",
       "0  2013             278\n",
       "1  2014           51854\n",
       "2  2015           53579\n",
       "3  2016           58763\n",
       "4  2017           61401\n",
       "5  2018           13802"
      ]
     },
     "execution_count": 46,
     "metadata": {},
     "output_type": "execute_result"
    }
   ],
   "source": [
    "incidents_per_year"
   ]
  },
  {
   "cell_type": "code",
   "execution_count": 27,
   "id": "85479e2e",
   "metadata": {
    "scrolled": false
   },
   "outputs": [
    {
     "data": {
      "image/png": "[encoded data removed]",
      "text/plain": [
       "<Figure size 640x480 with 1 Axes>"
      ]
     },
     "metadata": {},
     "output_type": "display_data"
    }
   ],
   "source": [
    "#Created a histogram for extreme values for number of people killed\n",
    "hist_n_killed = sns.histplot(gun_violence_df['n_killed'], bins = 20, kde = True)"
   ]
  },
  {
   "cell_type": "code",
   "execution_count": 25,
   "id": "340e933e",
   "metadata": {
    "scrolled": false
   },
   "outputs": [
    {
     "data": {
      "image/png": "[encoded data removed]",
      "text/plain": [
       "<Figure size 640x480 with 1 Axes>"
      ]
     },
     "metadata": {},
     "output_type": "display_data"
    }
   ],
   "source": [
    "#Created a histogram for extreme values for number of guns involved\n",
    "hist_n_guns_involved = sns.histplot(gun_violence_df['n_guns_involved'], bins = 20, kde = True)"
   ]
  },
  {
   "cell_type": "code",
   "execution_count": 56,
   "id": "e41e95a3",
   "metadata": {
    "scrolled": false
   },
   "outputs": [
    {
     "data": {
      "image/png": "[encoded data removed]",
      "text/plain": [
       "<Figure size 640x480 with 1 Axes>"
      ]
     },
     "metadata": {},
     "output_type": "display_data"
    }
   ],
   "source": [
    "#Created a histogram for extreme values for number of guns involved\n",
    "hist_n_injured = sns.histplot(gun_violence_df['victim_0-17'], bins = 20, kde = True)"
   ]
  },
  {
   "cell_type": "code",
   "execution_count": 20,
   "id": "e24f56b6",
   "metadata": {},
   "outputs": [],
   "source": [
    "gun_violence_df['participants_per_incident'] = gun_violence_df['victim_count'].fillna(0) + gun_violence_df['suspect_count'].fillna(0)\n"
   ]
  },
  {
   "cell_type": "code",
   "execution_count": 21,
   "id": "921261e1",
   "metadata": {
    "scrolled": false
   },
   "outputs": [
    {
     "data": {
      "image/png": "[encoded data removed]",
      "text/plain": [
       "<Figure size 640x480 with 1 Axes>"
      ]
     },
     "metadata": {},
     "output_type": "display_data"
    }
   ],
   "source": [
    "#Created a histogram for extreme values for number of guns involved\n",
    "participants_per_incident = sns.histplot(gun_violence_df['participants_per_incident'], bins = 20, kde = True)"
   ]
  },
  {
   "cell_type": "code",
   "execution_count": null,
   "id": "e25df05a",
   "metadata": {},
   "outputs": [],
   "source": []
  },
  {
   "cell_type": "markdown",
   "id": "58e8d71f",
   "metadata": {},
   "source": [
    "### Exploring Relationships"
   ]
  },
  {
   "cell_type": "code",
   "execution_count": 57,
   "id": "470499a3",
   "metadata": {},
   "outputs": [
    {
     "data": {
      "image/png": "[encoded data removed]",
      "text/plain": [
       "<Figure size 1500x1000 with 4 Axes>"
      ]
     },
     "metadata": {},
     "output_type": "display_data"
    }
   ],
   "source": [
    "# Setting the aesthetic style of the plots\n",
    "sns.set_style(\"whitegrid\")\n",
    "\n",
    "# Creating scatterplots\n",
    "plt.figure(figsize=(15, 10))\n",
    "\n",
    "# Scatterplot: Number of Guns Involved vs. Number of People Killed\n",
    "plt.subplot(2, 2, 1)\n",
    "sns.scatterplot(data=data_selected, x='n_guns_involved', y='n_killed')\n",
    "plt.title('Number of Guns Involved vs. Number of People Killed')\n",
    "\n",
    "# Scatterplot: Number of Victims Aged 0-17 vs. Number of People Killed\n",
    "plt.subplot(2, 2, 2)\n",
    "sns.scatterplot(data=data_selected, x='victim_0-17', y='n_killed')\n",
    "plt.title('Number of Victims Aged 0-17 vs. Number of People Killed')\n",
    "\n",
    "# Scatterplot: Number of Victims Aged 18-30 vs. Number of People Killed\n",
    "plt.subplot(2, 2, 3)\n",
    "sns.scatterplot(data=data_selected, x='victim_18-30', y='n_killed')\n",
    "plt.title('Number of Victims Aged 18-30 vs. Number of People Killed')\n",
    "\n",
    "# Scatterplot: Number of Suspects Aged 18-30 vs. Number of People Killed\n",
    "plt.subplot(2, 2, 4)\n",
    "sns.scatterplot(data=data_selected, x='suspect_18-30', y='n_killed')\n",
    "plt.title('Number of Suspects Aged 18-30 vs. Number of People Killed')\n",
    "\n",
    "plt.tight_layout()\n",
    "plt.show()\n"
   ]
  },
  {
   "cell_type": "markdown",
   "id": "edd78271",
   "metadata": {},
   "source": [
    "The scatterplots shows visual insights into the relationships between various variables in your dataset:\n",
    "\n",
    "1. **Number of Guns Involved vs. Number of People Killed:** This plot shows a scattered relationship between the number of guns involved in an incident and the number of fatalities. It indicates that there might not be a clear linear relationship, suggesting that the number of guns might not be a strong predictor of the number of people killed.\n",
    "\n",
    "\n",
    "2. **Number of Victims Aged 0-17 vs. Number of People Killed:** Similarly, this relationship appears scattered, suggesting that the number of young victims might not strongly correlate with the total number of fatalities in an incident.\n",
    "\n",
    "\n",
    "3. **Number of Victims Aged 18-30 vs. Number of People Killed:** This plot also shows a scattered distribution, indicating a potential lack of a strong linear relationship between these variables.\n",
    "\n",
    "\n",
    "4. **Number of Suspects Aged 18-30 vs. Number of People Killed:** Like the other plots, this one does not show a clear linear pattern, suggesting that the age group of suspects may not be a significant predictor of the number of fatalities."
   ]
  },
  {
   "cell_type": "markdown",
   "id": "878a45fd",
   "metadata": {},
   "source": [
    "## Task 5 - State your hypothesis in a markdown cell within your Jupyter notebook."
   ]
  },
  {
   "cell_type": "markdown",
   "id": "276e8917",
   "metadata": {},
   "source": [
    "### \"The number of guns involved in an incident has a linear relationship with the number of fatalities.\""
   ]
  },
  {
   "cell_type": "markdown",
   "id": "a7e57e3f",
   "metadata": {},
   "source": [
    "## Task 6 - Reshape the variables into NumPy arrays, with X being the independent variable and y being the dependent variable"
   ]
  },
  {
   "cell_type": "code",
   "execution_count": 58,
   "id": "70627697",
   "metadata": {},
   "outputs": [],
   "source": [
    "# Selecting the independent (X) and dependent (y) variables\n",
    "X = data_selected[['n_guns_involved']]\n",
    "y = data_selected['n_killed']"
   ]
  },
  {
   "cell_type": "code",
   "execution_count": 61,
   "id": "92206f29",
   "metadata": {
    "scrolled": false
   },
   "outputs": [
    {
     "data": {
      "text/html": [
       "<div>\n",
       "<style scoped>\n",
       "    .dataframe tbody tr th:only-of-type {\n",
       "        vertical-align: middle;\n",
       "    }\n",
       "\n",
       "    .dataframe tbody tr th {\n",
       "        vertical-align: top;\n",
       "    }\n",
       "\n",
       "    .dataframe thead th {\n",
       "        text-align: right;\n",
       "    }\n",
       "</style>\n",
       "<table border=\"1\" class=\"dataframe\">\n",
       "  <thead>\n",
       "    <tr style=\"text-align: right;\">\n",
       "      <th></th>\n",
       "      <th>n_guns_involved</th>\n",
       "    </tr>\n",
       "  </thead>\n",
       "  <tbody>\n",
       "    <tr>\n",
       "      <th>0</th>\n",
       "      <td>1.0</td>\n",
       "    </tr>\n",
       "    <tr>\n",
       "      <th>1</th>\n",
       "      <td>1.0</td>\n",
       "    </tr>\n",
       "    <tr>\n",
       "      <th>2</th>\n",
       "      <td>2.0</td>\n",
       "    </tr>\n",
       "    <tr>\n",
       "      <th>3</th>\n",
       "      <td>1.0</td>\n",
       "    </tr>\n",
       "    <tr>\n",
       "      <th>4</th>\n",
       "      <td>2.0</td>\n",
       "    </tr>\n",
       "    <tr>\n",
       "      <th>...</th>\n",
       "      <td>...</td>\n",
       "    </tr>\n",
       "    <tr>\n",
       "      <th>239672</th>\n",
       "      <td>1.0</td>\n",
       "    </tr>\n",
       "    <tr>\n",
       "      <th>239673</th>\n",
       "      <td>1.0</td>\n",
       "    </tr>\n",
       "    <tr>\n",
       "      <th>239674</th>\n",
       "      <td>1.0</td>\n",
       "    </tr>\n",
       "    <tr>\n",
       "      <th>239675</th>\n",
       "      <td>1.0</td>\n",
       "    </tr>\n",
       "    <tr>\n",
       "      <th>239676</th>\n",
       "      <td>2.0</td>\n",
       "    </tr>\n",
       "  </tbody>\n",
       "</table>\n",
       "<p>239677 rows × 1 columns</p>\n",
       "</div>"
      ],
      "text/plain": [
       "        n_guns_involved\n",
       "0                   1.0\n",
       "1                   1.0\n",
       "2                   2.0\n",
       "3                   1.0\n",
       "4                   2.0\n",
       "...                 ...\n",
       "239672              1.0\n",
       "239673              1.0\n",
       "239674              1.0\n",
       "239675              1.0\n",
       "239676              2.0\n",
       "\n",
       "[239677 rows x 1 columns]"
      ]
     },
     "execution_count": 61,
     "metadata": {},
     "output_type": "execute_result"
    }
   ],
   "source": [
    "X"
   ]
  },
  {
   "cell_type": "code",
   "execution_count": 62,
   "id": "fac37004",
   "metadata": {},
   "outputs": [
    {
     "data": {
      "text/plain": [
       "0         0\n",
       "1         1\n",
       "2         1\n",
       "3         4\n",
       "4         2\n",
       "         ..\n",
       "239672    0\n",
       "239673    1\n",
       "239674    0\n",
       "239675    1\n",
       "239676    2\n",
       "Name: n_killed, Length: 239677, dtype: int64"
      ]
     },
     "execution_count": 62,
     "metadata": {},
     "output_type": "execute_result"
    }
   ],
   "source": [
    "y"
   ]
  },
  {
   "cell_type": "markdown",
   "id": "98246a7a",
   "metadata": {},
   "source": [
    "## Task 7 - Split the data into two sets: a training set and a test set"
   ]
  },
  {
   "cell_type": "code",
   "execution_count": 59,
   "id": "15c46e81",
   "metadata": {},
   "outputs": [],
   "source": [
    "# Splitting the data into training and testing sets\n",
    "X_train, X_test, y_train, y_test = train_test_split(X, y, test_size=0.2, random_state=42)"
   ]
  },
  {
   "cell_type": "markdown",
   "id": "0174c3a1",
   "metadata": {},
   "source": [
    "## Task 8 - Run a linear regression on the data.\n",
    "\n",
    "### - First, fit the model you created to the training set.\n",
    "### - Then, create a prediction for y on the test set.\n",
    "\n",
    "## Task 9 - Create a plot that shows the regression line on the test set.\n"
   ]
  },
  {
   "cell_type": "code",
   "execution_count": 64,
   "id": "96836b88",
   "metadata": {},
   "outputs": [],
   "source": [
    "# Creating and training the linear regression model\n",
    "model = LinearRegression()\n",
    "model.fit(X_train, y_train)\n",
    "\n",
    "# Making predictions on the test set\n",
    "y_pred = model.predict(X_test)\n"
   ]
  },
  {
   "cell_type": "code",
   "execution_count": 68,
   "id": "89728cf9",
   "metadata": {
    "scrolled": false
   },
   "outputs": [
    {
     "data": {
      "image/png": "[encoded data removed]",
      "text/plain": [
       "<Figure size 800x600 with 1 Axes>"
      ]
     },
     "metadata": {},
     "output_type": "display_data"
    },
    {
     "data": {
      "text/plain": [
       "(0.25549553485429194, 0.0006048017533155647)"
      ]
     },
     "execution_count": 68,
     "metadata": {},
     "output_type": "execute_result"
    }
   ],
   "source": [
    "\n",
    "# Creating and training the linear regression model\n",
    "model = LinearRegression()\n",
    "model.fit(X_train, y_train)\n",
    "\n",
    "# Making predictions on the test set\n",
    "y_pred = model.predict(X_test)\n",
    "\n",
    "# Calculating performance metrics\n",
    "mse = mean_squared_error(y_test, y_pred)\n",
    "r2 = r2_score(y_test, y_pred)\n",
    "\n",
    "# Plotting the regression line over the test set\n",
    "plt.figure(figsize=(8, 6))\n",
    "sns.scatterplot(x=X_test['n_guns_involved'], y=y_test, color='blue', alpha=0.5, label='Actual')\n",
    "sns.lineplot(x=X_test['n_guns_involved'], y=y_pred, color='red', label='Predicted')\n",
    "plt.title('Regression Line: Number of Guns Involved vs. Number of People Killed')\n",
    "plt.xlabel('Number of Guns Involved')\n",
    "plt.ylabel('Number of People Killed')\n",
    "plt.legend()\n",
    "plt.show()\n",
    "\n",
    "mse, r2\n"
   ]
  },
  {
   "cell_type": "markdown",
   "id": "49a233e5",
   "metadata": {},
   "source": [
    "## Task 10 - Write your own interpretation of how well the line appears to fit the data in a markdown cell"
   ]
  },
  {
   "cell_type": "markdown",
   "id": "00d3eb80",
   "metadata": {},
   "source": [
    "#### The analysis indicates that the hypothesis \"more guns involved in an incident means more people killed\" does not align well with the data. The low R² score suggests that the model, which predicts the number of fatalities based on the number of guns involved, fails to capture the complexity of the situation. This implies that there are likely other significant factors influencing the number of fatalities in these incidents that our model does not account for."
   ]
  },
  {
   "cell_type": "markdown",
   "id": "c5c2cd9d",
   "metadata": {},
   "source": [
    "## Task 11 - Check the model performance statistics—MSE and R2 score."
   ]
  },
  {
   "cell_type": "code",
   "execution_count": null,
   "id": "02192460",
   "metadata": {},
   "outputs": [],
   "source": [
    "# Calculating performance metrics\n",
    "\n",
    "mse = mean_squared_error(y_test, y_pred)\n",
    "r2 = r2_score(y_test, y_pred)"
   ]
  },
  {
   "cell_type": "code",
   "execution_count": 65,
   "id": "edda31ec",
   "metadata": {},
   "outputs": [],
   "source": [
    "# Extracting the slope (coefficient) of the linear regression model\n",
    "slope = model.coef_[0]"
   ]
  },
  {
   "cell_type": "code",
   "execution_count": 67,
   "id": "05af5fd2",
   "metadata": {
    "scrolled": false
   },
   "outputs": [
    {
     "name": "stdout",
     "output_type": "stream",
     "text": [
      "Slope:  -0.0028982792779028753\n",
      "MSE:  0.25549553485429194\n",
      "R2:  0.0006048017533155647\n"
     ]
    }
   ],
   "source": [
    "print('Slope: ', slope)\n",
    "print('MSE: ', mse)\n",
    "print('R2: ', r2)"
   ]
  },
  {
   "cell_type": "markdown",
   "id": "5579d90d",
   "metadata": {},
   "source": [
    "### Values from the linear regression model:\n",
    "\n",
    "- Slope of the Regression Line: $ 0.0029$  \n",
    "- Mean Squared Error (MSE): $0.2555$\n",
    "- R² Score: $0.00060$\n",
    "\n",
    "\n",
    "### Interpretation:\n",
    "\n",
    "- **The slope of −0.0029** indicates the change in the **dependent variable ('n_killed')** for each unit increase in the **independent variable ('n_guns_involved')**. A negative slope suggests a very slight decrease in the number of fatalities with an increase in the number of guns involved, but this change is extremely small.\n",
    "\n",
    "\n",
    "- **The Mean Squared Error (MSE) of 0.25550.2555** is a measure of the average squared difference between the actual and predicted values. The closer this value is to zero, the better the model fits the data. In this case, it suggests moderate average errors in the predictions.\n",
    "\n",
    "\n",
    "- **The R² score of 0.00060.0006** indicates that only a very small fraction of the variance in the dependent variable is predictable from the independent variable. This low value suggests that the model does not explain the variability in the number of people killed very well and is not a good fit for the data. "
   ]
  },
  {
   "cell_type": "markdown",
   "id": "67a96ff0",
   "metadata": {},
   "source": [
    "## Task 12 - Compare the predicted y values with the actual y values in a dataframe."
   ]
  },
  {
   "cell_type": "code",
   "execution_count": 70,
   "id": "bd643e50",
   "metadata": {},
   "outputs": [
    {
     "data": {
      "text/html": [
       "<div>\n",
       "<style scoped>\n",
       "    .dataframe tbody tr th:only-of-type {\n",
       "        vertical-align: middle;\n",
       "    }\n",
       "\n",
       "    .dataframe tbody tr th {\n",
       "        vertical-align: top;\n",
       "    }\n",
       "\n",
       "    .dataframe thead th {\n",
       "        text-align: right;\n",
       "    }\n",
       "</style>\n",
       "<table border=\"1\" class=\"dataframe\">\n",
       "  <thead>\n",
       "    <tr style=\"text-align: right;\">\n",
       "      <th></th>\n",
       "      <th>Actual</th>\n",
       "      <th>Predicted</th>\n",
       "    </tr>\n",
       "  </thead>\n",
       "  <tbody>\n",
       "    <tr>\n",
       "      <th>0</th>\n",
       "      <td>0</td>\n",
       "      <td>0.253067</td>\n",
       "    </tr>\n",
       "    <tr>\n",
       "      <th>1</th>\n",
       "      <td>1</td>\n",
       "      <td>0.253067</td>\n",
       "    </tr>\n",
       "    <tr>\n",
       "      <th>2</th>\n",
       "      <td>0</td>\n",
       "      <td>0.253067</td>\n",
       "    </tr>\n",
       "    <tr>\n",
       "      <th>3</th>\n",
       "      <td>0</td>\n",
       "      <td>0.253067</td>\n",
       "    </tr>\n",
       "    <tr>\n",
       "      <th>4</th>\n",
       "      <td>1</td>\n",
       "      <td>0.253067</td>\n",
       "    </tr>\n",
       "    <tr>\n",
       "      <th>...</th>\n",
       "      <td>...</td>\n",
       "      <td>...</td>\n",
       "    </tr>\n",
       "    <tr>\n",
       "      <th>47931</th>\n",
       "      <td>0</td>\n",
       "      <td>0.253067</td>\n",
       "    </tr>\n",
       "    <tr>\n",
       "      <th>47932</th>\n",
       "      <td>2</td>\n",
       "      <td>0.253067</td>\n",
       "    </tr>\n",
       "    <tr>\n",
       "      <th>47933</th>\n",
       "      <td>0</td>\n",
       "      <td>0.253067</td>\n",
       "    </tr>\n",
       "    <tr>\n",
       "      <th>47934</th>\n",
       "      <td>0</td>\n",
       "      <td>0.253067</td>\n",
       "    </tr>\n",
       "    <tr>\n",
       "      <th>47935</th>\n",
       "      <td>0</td>\n",
       "      <td>0.253067</td>\n",
       "    </tr>\n",
       "  </tbody>\n",
       "</table>\n",
       "<p>47936 rows × 2 columns</p>\n",
       "</div>"
      ],
      "text/plain": [
       "       Actual  Predicted\n",
       "0           0   0.253067\n",
       "1           1   0.253067\n",
       "2           0   0.253067\n",
       "3           0   0.253067\n",
       "4           1   0.253067\n",
       "...       ...        ...\n",
       "47931       0   0.253067\n",
       "47932       2   0.253067\n",
       "47933       0   0.253067\n",
       "47934       0   0.253067\n",
       "47935       0   0.253067\n",
       "\n",
       "[47936 rows x 2 columns]"
      ]
     },
     "execution_count": 70,
     "metadata": {},
     "output_type": "execute_result"
    }
   ],
   "source": [
    "# Creating a DataFrame to compare actual and predicted values\n",
    "comparison_df = pd.DataFrame({'Actual': y_test, 'Predicted': y_pred})\n",
    "comparison_df.reset_index(drop=True, inplace=True)\n",
    "\n",
    "comparison_df\n"
   ]
  },
  {
   "cell_type": "markdown",
   "id": "215d20c8",
   "metadata": {},
   "source": [
    "## Task 13 - Include your thoughts on how well the model performed on the test set in a markdown cell.\n",
    "\n",
    "### - Include any reflections you have on the impact of possible data bias.\n",
    "\n",
    "\n",
    "#### Reflecting on the approach, the method of handling missing data (specifically, filling missing values with the median) might have influenced the results. Additionally, the complexity of real-life situations, like incidents involving firearms, usually involves multiple factors. Our simple linear model may not adequately capture these complexities. This underscores the need for more comprehensive models and the consideration of a wider range of variables when analyzing complex real-world issues, such as gun violence."
   ]
  },
  {
   "cell_type": "code",
   "execution_count": null,
   "id": "5601706f",
   "metadata": {},
   "outputs": [],
   "source": []
  }
 ],
 "metadata": {
  "kernelspec": {
   "display_name": "Python 3 (ipykernel)",
   "language": "python",
   "name": "python3"
  },
  "language_info": {
   "codemirror_mode": {
    "name": "ipython",
    "version": 3
   },
   "file_extension": ".py",
   "mimetype": "text/x-python",
   "name": "python",
   "nbconvert_exporter": "python",
   "pygments_lexer": "ipython3",
   "version": "3.9.13"
  }
 },
 "nbformat": 4,
 "nbformat_minor": 5
}
